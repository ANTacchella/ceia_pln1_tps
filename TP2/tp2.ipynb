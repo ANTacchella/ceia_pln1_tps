{
  "cells": [
    {
      "cell_type": "markdown",
      "id": "ab2c27de",
      "metadata": {
        "id": "ab2c27de"
      },
      "source": [
        "### **Consigna**\n",
        "\n",
        "- Crear sus propios vectores con Gensim basado en lo visto en clase con otro dataset.\n",
        "- Probar términos de interés y explicar similitudes en el espacio de embeddings (sacar conclusiones entre palabras similitudes y diferencias).\n",
        "- Graficarlos.\n",
        "- Obtener conclusiones."
      ]
    },
    {
      "cell_type": "code",
      "source": [
        "!pip install gensim"
      ],
      "metadata": {
        "colab": {
          "base_uri": "https://localhost:8080/"
        },
        "id": "CAOmb_6QUhH8",
        "outputId": "e7810e13-305a-4d09-fad5-42eb4f87049f"
      },
      "id": "CAOmb_6QUhH8",
      "execution_count": 28,
      "outputs": [
        {
          "output_type": "stream",
          "name": "stdout",
          "text": [
            "Requirement already satisfied: gensim in /usr/local/lib/python3.12/dist-packages (4.3.3)\n",
            "Requirement already satisfied: numpy<2.0,>=1.18.5 in /usr/local/lib/python3.12/dist-packages (from gensim) (1.26.4)\n",
            "Requirement already satisfied: scipy<1.14.0,>=1.7.0 in /usr/local/lib/python3.12/dist-packages (from gensim) (1.13.1)\n",
            "Requirement already satisfied: smart-open>=1.8.1 in /usr/local/lib/python3.12/dist-packages (from gensim) (7.3.1)\n",
            "Requirement already satisfied: wrapt in /usr/local/lib/python3.12/dist-packages (from smart-open>=1.8.1->gensim) (1.17.3)\n"
          ]
        }
      ]
    },
    {
      "cell_type": "code",
      "source": [
        "import os\n",
        "import platform\n",
        "\n",
        "import pandas as pd\n",
        "import matplotlib.pyplot as plt\n",
        "import seaborn as sns\n",
        "\n",
        "import multiprocessing\n",
        "from gensim.models import Word2Vec\n",
        "from gensim.models.callbacks import CallbackAny2Vec\n",
        "from tensorflow.keras.preprocessing.text import text_to_word_sequence\n"
      ],
      "metadata": {
        "id": "hH5s17RvUkla"
      },
      "id": "hH5s17RvUkla",
      "execution_count": 29,
      "outputs": []
    },
    {
      "cell_type": "code",
      "source": [
        "# Descargar la carpeta de dataset\n",
        "if os.access('./songs_dataset', os.F_OK) is False:\n",
        "    if os.access('songs_dataset.zip', os.F_OK) is False:\n",
        "        if platform.system() == 'Windows':\n",
        "            !curl https://raw.githubusercontent.com/FIUBA-Posgrado-Inteligencia-Artificial/procesamiento_lenguaje_natural/main/datasets/songs_dataset.zip -o songs_dataset.zip\n",
        "        else:\n",
        "            !wget songs_dataset.zip https://github.com/FIUBA-Posgrado-Inteligencia-Artificial/procesamiento_lenguaje_natural/raw/main/datasets/songs_dataset.zip\n",
        "    !unzip -q songs_dataset.zip\n",
        "else:\n",
        "    print(\"El dataset ya se encuentra descargado\")"
      ],
      "metadata": {
        "colab": {
          "base_uri": "https://localhost:8080/"
        },
        "id": "fm2oDrZyVKRk",
        "outputId": "81008dee-1810-4c77-e28e-d897981c4c8b"
      },
      "id": "fm2oDrZyVKRk",
      "execution_count": 30,
      "outputs": [
        {
          "output_type": "stream",
          "name": "stdout",
          "text": [
            "El dataset ya se encuentra descargado\n"
          ]
        }
      ]
    },
    {
      "cell_type": "code",
      "source": [
        "# Posibles bandas\n",
        "os.listdir(\"./songs_dataset/\")"
      ],
      "metadata": {
        "colab": {
          "base_uri": "https://localhost:8080/"
        },
        "id": "EMZyM06FVjA1",
        "outputId": "e1335446-40da-4fd9-99ed-009464b25435"
      },
      "id": "EMZyM06FVjA1",
      "execution_count": 31,
      "outputs": [
        {
          "output_type": "execute_result",
          "data": {
            "text/plain": [
              "['patti-smith.txt',\n",
              " 'nickelback.txt',\n",
              " 'missy-elliott.txt',\n",
              " 'bjork.txt',\n",
              " 'bob-dylan.txt',\n",
              " 'beatles.txt',\n",
              " 'lorde.txt',\n",
              " 'blink-182.txt',\n",
              " 'paul-simon.txt',\n",
              " 'jimi-hendrix.txt',\n",
              " 'amy-winehouse.txt',\n",
              " 'prince.txt',\n",
              " 'dickinson.txt',\n",
              " 'eminem.txt',\n",
              " 'leonard-cohen.txt',\n",
              " 'radiohead.txt',\n",
              " 'britney-spears.txt',\n",
              " 'dj-khaled.txt',\n",
              " 'adele.txt',\n",
              " 'drake.txt',\n",
              " 'lil-wayne.txt',\n",
              " 'kanye-west.txt',\n",
              " 'bruno-mars.txt',\n",
              " 'janisjoplin.txt',\n",
              " 'lin-manuel-miranda.txt',\n",
              " 'bieber.txt',\n",
              " 'ludacris.txt',\n",
              " 'joni-mitchell.txt',\n",
              " 'nicki-minaj.txt',\n",
              " 'dr-seuss.txt',\n",
              " 'notorious-big.txt',\n",
              " 'r-kelly.txt',\n",
              " 'bob-marley.txt',\n",
              " 'kanye.txt',\n",
              " 'nirvana.txt',\n",
              " 'dolly-parton.txt',\n",
              " 'rihanna.txt',\n",
              " 'disney.txt',\n",
              " 'nursery_rhymes.txt',\n",
              " 'bruce-springsteen.txt',\n",
              " 'michael-jackson.txt',\n",
              " 'cake.txt',\n",
              " 'notorious_big.txt',\n",
              " 'al-green.txt',\n",
              " 'Lil_Wayne.txt',\n",
              " 'lady-gaga.txt',\n",
              " 'Kanye_West.txt',\n",
              " 'alicia-keys.txt',\n",
              " 'johnny-cash.txt']"
            ]
          },
          "metadata": {},
          "execution_count": 31
        }
      ]
    },
    {
      "cell_type": "code",
      "source": [
        "# Armar el dataset utilizando salto de línea para separar las oraciones/docs\n",
        "df = pd.read_csv('songs_dataset/michael-jackson.txt', sep='/n', header=None)\n",
        "df.head()"
      ],
      "metadata": {
        "colab": {
          "base_uri": "https://localhost:8080/",
          "height": 298
        },
        "id": "nvbyvNid9jcd",
        "outputId": "faea83f5-f839-40e7-fc62-b8006d32c640"
      },
      "id": "nvbyvNid9jcd",
      "execution_count": 32,
      "outputs": [
        {
          "output_type": "stream",
          "name": "stderr",
          "text": [
            "/tmp/ipython-input-2845004978.py:2: ParserWarning:\n",
            "\n",
            "Falling back to the 'python' engine because the 'c' engine does not support regex separators (separators > 1 char and different from '\\s+' are interpreted as regex); you can avoid this warning by specifying engine='python'.\n",
            "\n"
          ]
        },
        {
          "output_type": "execute_result",
          "data": {
            "text/plain": [
              "                                          0\n",
              "0                           [Spoken Intro:]\n",
              "1                   You ever want something\n",
              "2          that you know you shouldn't have\n",
              "3  The more you know you shouldn't have it,\n",
              "4                      The more you want it"
            ],
            "text/html": [
              "\n",
              "  <div id=\"df-23f1fa6b-bad5-4370-be65-5197497cf2d0\" class=\"colab-df-container\">\n",
              "    <div>\n",
              "<style scoped>\n",
              "    .dataframe tbody tr th:only-of-type {\n",
              "        vertical-align: middle;\n",
              "    }\n",
              "\n",
              "    .dataframe tbody tr th {\n",
              "        vertical-align: top;\n",
              "    }\n",
              "\n",
              "    .dataframe thead th {\n",
              "        text-align: right;\n",
              "    }\n",
              "</style>\n",
              "<table border=\"1\" class=\"dataframe\">\n",
              "  <thead>\n",
              "    <tr style=\"text-align: right;\">\n",
              "      <th></th>\n",
              "      <th>0</th>\n",
              "    </tr>\n",
              "  </thead>\n",
              "  <tbody>\n",
              "    <tr>\n",
              "      <th>0</th>\n",
              "      <td>[Spoken Intro:]</td>\n",
              "    </tr>\n",
              "    <tr>\n",
              "      <th>1</th>\n",
              "      <td>You ever want something</td>\n",
              "    </tr>\n",
              "    <tr>\n",
              "      <th>2</th>\n",
              "      <td>that you know you shouldn't have</td>\n",
              "    </tr>\n",
              "    <tr>\n",
              "      <th>3</th>\n",
              "      <td>The more you know you shouldn't have it,</td>\n",
              "    </tr>\n",
              "    <tr>\n",
              "      <th>4</th>\n",
              "      <td>The more you want it</td>\n",
              "    </tr>\n",
              "  </tbody>\n",
              "</table>\n",
              "</div>\n",
              "    <div class=\"colab-df-buttons\">\n",
              "\n",
              "  <div class=\"colab-df-container\">\n",
              "    <button class=\"colab-df-convert\" onclick=\"convertToInteractive('df-23f1fa6b-bad5-4370-be65-5197497cf2d0')\"\n",
              "            title=\"Convert this dataframe to an interactive table.\"\n",
              "            style=\"display:none;\">\n",
              "\n",
              "  <svg xmlns=\"http://www.w3.org/2000/svg\" height=\"24px\" viewBox=\"0 -960 960 960\">\n",
              "    <path d=\"M120-120v-720h720v720H120Zm60-500h600v-160H180v160Zm220 220h160v-160H400v160Zm0 220h160v-160H400v160ZM180-400h160v-160H180v160Zm440 0h160v-160H620v160ZM180-180h160v-160H180v160Zm440 0h160v-160H620v160Z\"/>\n",
              "  </svg>\n",
              "    </button>\n",
              "\n",
              "  <style>\n",
              "    .colab-df-container {\n",
              "      display:flex;\n",
              "      gap: 12px;\n",
              "    }\n",
              "\n",
              "    .colab-df-convert {\n",
              "      background-color: #E8F0FE;\n",
              "      border: none;\n",
              "      border-radius: 50%;\n",
              "      cursor: pointer;\n",
              "      display: none;\n",
              "      fill: #1967D2;\n",
              "      height: 32px;\n",
              "      padding: 0 0 0 0;\n",
              "      width: 32px;\n",
              "    }\n",
              "\n",
              "    .colab-df-convert:hover {\n",
              "      background-color: #E2EBFA;\n",
              "      box-shadow: 0px 1px 2px rgba(60, 64, 67, 0.3), 0px 1px 3px 1px rgba(60, 64, 67, 0.15);\n",
              "      fill: #174EA6;\n",
              "    }\n",
              "\n",
              "    .colab-df-buttons div {\n",
              "      margin-bottom: 4px;\n",
              "    }\n",
              "\n",
              "    [theme=dark] .colab-df-convert {\n",
              "      background-color: #3B4455;\n",
              "      fill: #D2E3FC;\n",
              "    }\n",
              "\n",
              "    [theme=dark] .colab-df-convert:hover {\n",
              "      background-color: #434B5C;\n",
              "      box-shadow: 0px 1px 3px 1px rgba(0, 0, 0, 0.15);\n",
              "      filter: drop-shadow(0px 1px 2px rgba(0, 0, 0, 0.3));\n",
              "      fill: #FFFFFF;\n",
              "    }\n",
              "  </style>\n",
              "\n",
              "    <script>\n",
              "      const buttonEl =\n",
              "        document.querySelector('#df-23f1fa6b-bad5-4370-be65-5197497cf2d0 button.colab-df-convert');\n",
              "      buttonEl.style.display =\n",
              "        google.colab.kernel.accessAllowed ? 'block' : 'none';\n",
              "\n",
              "      async function convertToInteractive(key) {\n",
              "        const element = document.querySelector('#df-23f1fa6b-bad5-4370-be65-5197497cf2d0');\n",
              "        const dataTable =\n",
              "          await google.colab.kernel.invokeFunction('convertToInteractive',\n",
              "                                                    [key], {});\n",
              "        if (!dataTable) return;\n",
              "\n",
              "        const docLinkHtml = 'Like what you see? Visit the ' +\n",
              "          '<a target=\"_blank\" href=https://colab.research.google.com/notebooks/data_table.ipynb>data table notebook</a>'\n",
              "          + ' to learn more about interactive tables.';\n",
              "        element.innerHTML = '';\n",
              "        dataTable['output_type'] = 'display_data';\n",
              "        await google.colab.output.renderOutput(dataTable, element);\n",
              "        const docLink = document.createElement('div');\n",
              "        docLink.innerHTML = docLinkHtml;\n",
              "        element.appendChild(docLink);\n",
              "      }\n",
              "    </script>\n",
              "  </div>\n",
              "\n",
              "\n",
              "    <div id=\"df-90d12c10-6778-4ebd-9510-862bf4249c33\">\n",
              "      <button class=\"colab-df-quickchart\" onclick=\"quickchart('df-90d12c10-6778-4ebd-9510-862bf4249c33')\"\n",
              "                title=\"Suggest charts\"\n",
              "                style=\"display:none;\">\n",
              "\n",
              "<svg xmlns=\"http://www.w3.org/2000/svg\" height=\"24px\"viewBox=\"0 0 24 24\"\n",
              "     width=\"24px\">\n",
              "    <g>\n",
              "        <path d=\"M19 3H5c-1.1 0-2 .9-2 2v14c0 1.1.9 2 2 2h14c1.1 0 2-.9 2-2V5c0-1.1-.9-2-2-2zM9 17H7v-7h2v7zm4 0h-2V7h2v10zm4 0h-2v-4h2v4z\"/>\n",
              "    </g>\n",
              "</svg>\n",
              "      </button>\n",
              "\n",
              "<style>\n",
              "  .colab-df-quickchart {\n",
              "      --bg-color: #E8F0FE;\n",
              "      --fill-color: #1967D2;\n",
              "      --hover-bg-color: #E2EBFA;\n",
              "      --hover-fill-color: #174EA6;\n",
              "      --disabled-fill-color: #AAA;\n",
              "      --disabled-bg-color: #DDD;\n",
              "  }\n",
              "\n",
              "  [theme=dark] .colab-df-quickchart {\n",
              "      --bg-color: #3B4455;\n",
              "      --fill-color: #D2E3FC;\n",
              "      --hover-bg-color: #434B5C;\n",
              "      --hover-fill-color: #FFFFFF;\n",
              "      --disabled-bg-color: #3B4455;\n",
              "      --disabled-fill-color: #666;\n",
              "  }\n",
              "\n",
              "  .colab-df-quickchart {\n",
              "    background-color: var(--bg-color);\n",
              "    border: none;\n",
              "    border-radius: 50%;\n",
              "    cursor: pointer;\n",
              "    display: none;\n",
              "    fill: var(--fill-color);\n",
              "    height: 32px;\n",
              "    padding: 0;\n",
              "    width: 32px;\n",
              "  }\n",
              "\n",
              "  .colab-df-quickchart:hover {\n",
              "    background-color: var(--hover-bg-color);\n",
              "    box-shadow: 0 1px 2px rgba(60, 64, 67, 0.3), 0 1px 3px 1px rgba(60, 64, 67, 0.15);\n",
              "    fill: var(--button-hover-fill-color);\n",
              "  }\n",
              "\n",
              "  .colab-df-quickchart-complete:disabled,\n",
              "  .colab-df-quickchart-complete:disabled:hover {\n",
              "    background-color: var(--disabled-bg-color);\n",
              "    fill: var(--disabled-fill-color);\n",
              "    box-shadow: none;\n",
              "  }\n",
              "\n",
              "  .colab-df-spinner {\n",
              "    border: 2px solid var(--fill-color);\n",
              "    border-color: transparent;\n",
              "    border-bottom-color: var(--fill-color);\n",
              "    animation:\n",
              "      spin 1s steps(1) infinite;\n",
              "  }\n",
              "\n",
              "  @keyframes spin {\n",
              "    0% {\n",
              "      border-color: transparent;\n",
              "      border-bottom-color: var(--fill-color);\n",
              "      border-left-color: var(--fill-color);\n",
              "    }\n",
              "    20% {\n",
              "      border-color: transparent;\n",
              "      border-left-color: var(--fill-color);\n",
              "      border-top-color: var(--fill-color);\n",
              "    }\n",
              "    30% {\n",
              "      border-color: transparent;\n",
              "      border-left-color: var(--fill-color);\n",
              "      border-top-color: var(--fill-color);\n",
              "      border-right-color: var(--fill-color);\n",
              "    }\n",
              "    40% {\n",
              "      border-color: transparent;\n",
              "      border-right-color: var(--fill-color);\n",
              "      border-top-color: var(--fill-color);\n",
              "    }\n",
              "    60% {\n",
              "      border-color: transparent;\n",
              "      border-right-color: var(--fill-color);\n",
              "    }\n",
              "    80% {\n",
              "      border-color: transparent;\n",
              "      border-right-color: var(--fill-color);\n",
              "      border-bottom-color: var(--fill-color);\n",
              "    }\n",
              "    90% {\n",
              "      border-color: transparent;\n",
              "      border-bottom-color: var(--fill-color);\n",
              "    }\n",
              "  }\n",
              "</style>\n",
              "\n",
              "      <script>\n",
              "        async function quickchart(key) {\n",
              "          const quickchartButtonEl =\n",
              "            document.querySelector('#' + key + ' button');\n",
              "          quickchartButtonEl.disabled = true;  // To prevent multiple clicks.\n",
              "          quickchartButtonEl.classList.add('colab-df-spinner');\n",
              "          try {\n",
              "            const charts = await google.colab.kernel.invokeFunction(\n",
              "                'suggestCharts', [key], {});\n",
              "          } catch (error) {\n",
              "            console.error('Error during call to suggestCharts:', error);\n",
              "          }\n",
              "          quickchartButtonEl.classList.remove('colab-df-spinner');\n",
              "          quickchartButtonEl.classList.add('colab-df-quickchart-complete');\n",
              "        }\n",
              "        (() => {\n",
              "          let quickchartButtonEl =\n",
              "            document.querySelector('#df-90d12c10-6778-4ebd-9510-862bf4249c33 button');\n",
              "          quickchartButtonEl.style.display =\n",
              "            google.colab.kernel.accessAllowed ? 'block' : 'none';\n",
              "        })();\n",
              "      </script>\n",
              "    </div>\n",
              "\n",
              "    </div>\n",
              "  </div>\n"
            ],
            "application/vnd.google.colaboratory.intrinsic+json": {
              "type": "dataframe",
              "variable_name": "df",
              "summary": "{\n  \"name\": \"df\",\n  \"rows\": 9484,\n  \"fields\": [\n    {\n      \"column\": 0,\n      \"properties\": {\n        \"dtype\": \"string\",\n        \"num_unique_values\": 5992,\n        \"samples\": [\n          \"I Can't Live My Life\",\n          \"To show your stuff\",\n          \"She Said I'm All Yours\"\n        ],\n        \"semantic_type\": \"\",\n        \"description\": \"\"\n      }\n    }\n  ]\n}"
            }
          },
          "metadata": {},
          "execution_count": 32
        }
      ]
    },
    {
      "cell_type": "code",
      "source": [
        "print(\"Cantidad de documentos:\", df.shape[0])"
      ],
      "metadata": {
        "colab": {
          "base_uri": "https://localhost:8080/"
        },
        "id": "0YVoHkpe_vGB",
        "outputId": "dfa08b72-b1c2-4df4-ec5f-85972ed006d2"
      },
      "id": "0YVoHkpe_vGB",
      "execution_count": 33,
      "outputs": [
        {
          "output_type": "stream",
          "name": "stdout",
          "text": [
            "Cantidad de documentos: 9484\n"
          ]
        }
      ]
    },
    {
      "cell_type": "code",
      "source": [
        "sentence_tokens = []\n",
        "# Recorrer todas las filas y transformar las oraciones\n",
        "# en una secuencia de palabras (esto podría realizarse con NLTK o spaCy también)\n",
        "for _, row in df[:None].iterrows():\n",
        "    sentence_tokens.append(text_to_word_sequence(row[0]))"
      ],
      "metadata": {
        "id": "VpO3W86xAWea"
      },
      "id": "VpO3W86xAWea",
      "execution_count": 34,
      "outputs": []
    },
    {
      "cell_type": "code",
      "source": [
        "# Demos un vistazo\n",
        "sentence_tokens[:2]"
      ],
      "metadata": {
        "colab": {
          "base_uri": "https://localhost:8080/"
        },
        "id": "puMhycUOAZrF",
        "outputId": "adabd27a-3089-4e86-9cf9-4c35fcd620bb"
      },
      "id": "puMhycUOAZrF",
      "execution_count": 35,
      "outputs": [
        {
          "output_type": "execute_result",
          "data": {
            "text/plain": [
              "[['spoken', 'intro'], ['you', 'ever', 'want', 'something']]"
            ]
          },
          "metadata": {},
          "execution_count": 35
        }
      ]
    },
    {
      "cell_type": "markdown",
      "source": [
        "### **Entrenamiento**"
      ],
      "metadata": {
        "id": "mfdUjgd8Q81P"
      },
      "id": "mfdUjgd8Q81P"
    },
    {
      "cell_type": "code",
      "source": [
        "# Durante el entrenamiento gensim por defecto no informa el \"loss\" en cada época\n",
        "# Sobrecargamos el callback para poder tener esta información\n",
        "class Callback(CallbackAny2Vec):\n",
        "    \"\"\"\n",
        "    Callback to print loss after each epoch\n",
        "    \"\"\"\n",
        "    def __init__(self):\n",
        "        self.epoch = 0\n",
        "\n",
        "    def on_epoch_end(self, model):\n",
        "        loss = model.get_latest_training_loss()\n",
        "        if self.epoch == 0:\n",
        "            print('Loss after epoch {}: {}'.format(self.epoch, loss))\n",
        "        else:\n",
        "            print('Loss after epoch {}: {}'.format(self.epoch, loss- self.loss_previous_step))\n",
        "        self.epoch += 1\n",
        "        self.loss_previous_step = loss"
      ],
      "metadata": {
        "id": "EYNucMC5AkfO"
      },
      "id": "EYNucMC5AkfO",
      "execution_count": 36,
      "outputs": []
    },
    {
      "cell_type": "code",
      "source": [
        "# Crearmos el modelo generador de vectores\n",
        "# En este caso utilizaremos la estructura modelo Skipgram\n",
        "w2v_model = Word2Vec(\n",
        "    min_count=5,        # frecuencia mínima de palabra para incluirla en el vocabulario\n",
        "    window=2,           # cant de palabras antes y desp de la predicha\n",
        "    vector_size=300,    # dimensionalidad de los vectores\n",
        "    negative=20,        # cantidad de negative samples... 0 es no se usa\n",
        "    workers=1,          # si tienen más cores pueden cambiar este valor\n",
        "    sg=1                # modelo 0: CBOW  1: Skipgram\n",
        ")"
      ],
      "metadata": {
        "id": "ppiI1gwdA5Y7"
      },
      "id": "ppiI1gwdA5Y7",
      "execution_count": 37,
      "outputs": []
    },
    {
      "cell_type": "code",
      "source": [
        "# Obtener el vocabulario con los tokens\n",
        "w2v_model.build_vocab(sentence_tokens)"
      ],
      "metadata": {
        "id": "xNsDV7TjBKUh"
      },
      "id": "xNsDV7TjBKUh",
      "execution_count": 38,
      "outputs": []
    },
    {
      "cell_type": "code",
      "source": [
        "# Cantidad de filas/docs encontradas en el corpus\n",
        "print(\"Cantidad de docs en el corpus:\", w2v_model.corpus_count)"
      ],
      "metadata": {
        "colab": {
          "base_uri": "https://localhost:8080/"
        },
        "id": "-LDxroxfBOAY",
        "outputId": "710c0311-2418-4456-b616-40bf84c36659"
      },
      "id": "-LDxroxfBOAY",
      "execution_count": 39,
      "outputs": [
        {
          "output_type": "stream",
          "name": "stdout",
          "text": [
            "Cantidad de docs en el corpus: 9484\n"
          ]
        }
      ]
    },
    {
      "cell_type": "code",
      "source": [
        "# Cantidad de words encontradas en el corpus\n",
        "print(\"Cantidad de words distintas en el corpus:\", len(w2v_model.wv.index_to_key))"
      ],
      "metadata": {
        "colab": {
          "base_uri": "https://localhost:8080/"
        },
        "id": "UGA_ZO5kBcUQ",
        "outputId": "7c6f0194-c5aa-4009-ee8d-8f1ef74b6a06"
      },
      "id": "UGA_ZO5kBcUQ",
      "execution_count": 40,
      "outputs": [
        {
          "output_type": "stream",
          "name": "stdout",
          "text": [
            "Cantidad de words distintas en el corpus: 1000\n"
          ]
        }
      ]
    },
    {
      "cell_type": "code",
      "source": [
        "# Entrenamos el modelo generador de vectores\n",
        "# Utilizamos nuestro callback\n",
        "w2v_model.train(\n",
        "    sentence_tokens,\n",
        "    total_examples=w2v_model.corpus_count,\n",
        "    epochs=20,\n",
        "    compute_loss=True,\n",
        "    callbacks=[Callback()]\n",
        ")"
      ],
      "metadata": {
        "colab": {
          "base_uri": "https://localhost:8080/"
        },
        "id": "hmFKe99uBf-F",
        "outputId": "f6e647c0-d10a-43fd-b5e5-e3fdb3cab97b"
      },
      "id": "hmFKe99uBf-F",
      "execution_count": 41,
      "outputs": [
        {
          "output_type": "stream",
          "name": "stdout",
          "text": [
            "Loss after epoch 0: 331950.15625\n",
            "Loss after epoch 1: 227539.71875\n",
            "Loss after epoch 2: 227819.5625\n",
            "Loss after epoch 3: 222297.375\n",
            "Loss after epoch 4: 193222.8125\n",
            "Loss after epoch 5: 183347.125\n",
            "Loss after epoch 6: 176326.25\n",
            "Loss after epoch 7: 169747.875\n",
            "Loss after epoch 8: 166771.625\n",
            "Loss after epoch 9: 160761.375\n",
            "Loss after epoch 10: 146806.875\n",
            "Loss after epoch 11: 141884.5\n",
            "Loss after epoch 12: 139681.25\n",
            "Loss after epoch 13: 138101.5\n",
            "Loss after epoch 14: 137683.0\n",
            "Loss after epoch 15: 135786.5\n",
            "Loss after epoch 16: 136097.25\n",
            "Loss after epoch 17: 134627.25\n",
            "Loss after epoch 18: 135685.75\n",
            "Loss after epoch 19: 134597.25\n"
          ]
        },
        {
          "output_type": "execute_result",
          "data": {
            "text/plain": [
              "(626341, 993780)"
            ]
          },
          "metadata": {},
          "execution_count": 41
        }
      ]
    },
    {
      "cell_type": "markdown",
      "source": [
        "### **Palabras más relacionadas**"
      ],
      "metadata": {
        "id": "bwSjy_JhRAaF"
      },
      "id": "bwSjy_JhRAaF"
    },
    {
      "cell_type": "code",
      "source": [
        "# Palabras que MÁS se relacionan con...:\n",
        "w2v_model.wv.most_similar(positive=[\"billie\"], topn=10)"
      ],
      "metadata": {
        "colab": {
          "base_uri": "https://localhost:8080/"
        },
        "id": "LlKMei7UCBmT",
        "outputId": "da01c3c2-2d1d-47f8-b420-f6455f79ec3e"
      },
      "id": "LlKMei7UCBmT",
      "execution_count": 42,
      "outputs": [
        {
          "output_type": "execute_result",
          "data": {
            "text/plain": [
              "[('jean', 0.9854705929756165),\n",
              " ('son', 0.8961629271507263),\n",
              " ('lover', 0.8686242699623108),\n",
              " ('kid', 0.8457128405570984),\n",
              " ('sleep', 0.8197437524795532),\n",
              " ('dom', 0.8066651821136475),\n",
              " ('yours', 0.8008102178573608),\n",
              " ('sheldon', 0.8005437850952148),\n",
              " ('s', 0.7958450317382812),\n",
              " ('empty', 0.7907074093818665)]"
            ]
          },
          "metadata": {},
          "execution_count": 42
        }
      ]
    },
    {
      "cell_type": "markdown",
      "source": [
        "Para la palabra \"billie\" la más relacionada es \"jean\" lo cual es un indicio de que el modelo está captando bien las relaciones dado que Billie Jean es una canción muy famosa de Michael Jackson y esa secuencia de dos palabras se repite constantemente en la canción."
      ],
      "metadata": {
        "id": "kncFHYIdSJIa"
      },
      "id": "kncFHYIdSJIa"
    },
    {
      "cell_type": "code",
      "source": [
        "# Palabras que MÁS se relacionan con...:\n",
        "w2v_model.wv.most_similar(positive=[\"bad\"], topn=10)"
      ],
      "metadata": {
        "colab": {
          "base_uri": "https://localhost:8080/"
        },
        "id": "PdqecUH2CRGR",
        "outputId": "4b9d2c1f-07cd-4f05-a6d9-7cab9418d79c"
      },
      "id": "PdqecUH2CRGR",
      "execution_count": 43,
      "outputs": [
        {
          "output_type": "execute_result",
          "data": {
            "text/plain": [
              "[('shameone', 0.8981436491012573),\n",
              " ('smooth', 0.8740324378013611),\n",
              " ('laughing', 0.8125943541526794),\n",
              " ('fast', 0.8012159466743469),\n",
              " ('telling', 0.7683085203170776),\n",
              " ('bothered', 0.7678208947181702),\n",
              " ('easy', 0.7508718967437744),\n",
              " ('late', 0.746696949005127),\n",
              " ('everyday', 0.7322711944580078),\n",
              " ('talking', 0.7243325114250183)]"
            ]
          },
          "metadata": {},
          "execution_count": 43
        }
      ]
    },
    {
      "cell_type": "markdown",
      "source": [
        "También para \"bad\" se observa que el modelo capta bien las relaciones, por ejemplo, la palabra \"shameone\" en la canción Bad siempre acompaña a \"bad\" en el estribillo."
      ],
      "metadata": {
        "id": "2uQsZ-PHSbb1"
      },
      "id": "2uQsZ-PHSbb1"
    },
    {
      "cell_type": "code",
      "source": [
        "# Palabras que MÁS se relacionan con...:\n",
        "w2v_model.wv.most_similar(positive=[\"beat\"], topn=10)"
      ],
      "metadata": {
        "colab": {
          "base_uri": "https://localhost:8080/"
        },
        "id": "fZRXyU9iCyAg",
        "outputId": "e68172fc-80c0-480e-80f2-38ce1c9d4c08"
      },
      "id": "fZRXyU9iCyAg",
      "execution_count": 44,
      "outputs": [
        {
          "output_type": "execute_result",
          "data": {
            "text/plain": [
              "[('magazine', 0.792034387588501),\n",
              " ('buy', 0.7834197878837585),\n",
              " ('fake', 0.752918541431427),\n",
              " (\"couldn't\", 0.7497268915176392),\n",
              " ('push', 0.744240939617157),\n",
              " ('seemed', 0.7409060597419739),\n",
              " ('waste', 0.7388805747032166),\n",
              " ('seems', 0.7358677387237549),\n",
              " ('read', 0.7328842878341675),\n",
              " ('feed', 0.7303219437599182)]"
            ]
          },
          "metadata": {},
          "execution_count": 44
        }
      ]
    },
    {
      "cell_type": "markdown",
      "source": [
        "Para el caso de \"beat\" si no se encuentran palabras de la canción \"Beat It\" pero puede ser porque esta esté presente en otras canciones."
      ],
      "metadata": {
        "id": "4859Unv4TLU5"
      },
      "id": "4859Unv4TLU5"
    },
    {
      "cell_type": "code",
      "source": [
        "# Palabras que MÁS se relacionan con...:\n",
        "w2v_model.wv.most_similar(positive=[\"thriller\"], topn=10)"
      ],
      "metadata": {
        "colab": {
          "base_uri": "https://localhost:8080/"
        },
        "id": "MygiIumWC_me",
        "outputId": "ee20bf9e-aff0-42d0-eb21-ef5b7bbf5fa9"
      },
      "id": "MygiIumWC_me",
      "execution_count": 45,
      "outputs": [
        {
          "output_type": "execute_result",
          "data": {
            "text/plain": [
              "[('winds', 0.8212677836418152),\n",
              " ('till', 0.8171051144599915),\n",
              " ('killer', 0.8169721364974976),\n",
              " ('darkness', 0.7892062067985535),\n",
              " ('breaking', 0.7787442207336426),\n",
              " ('s', 0.7718460559844971),\n",
              " ('big', 0.7713231444358826),\n",
              " ('injustice', 0.7671158909797668),\n",
              " ('road', 0.7557457685470581),\n",
              " ('lovers', 0.7529216408729553)]"
            ]
          },
          "metadata": {},
          "execution_count": 45
        }
      ]
    },
    {
      "cell_type": "code",
      "source": [
        "# Palabras que MÁS se relacionan con...:\n",
        "w2v_model.wv.most_similar(positive=[\"black\"], topn=10)"
      ],
      "metadata": {
        "colab": {
          "base_uri": "https://localhost:8080/"
        },
        "id": "0mWY04HaDSlO",
        "outputId": "06ea4d0c-0574-4d73-bb78-9bd0334c49f0"
      },
      "id": "0mWY04HaDSlO",
      "execution_count": 46,
      "outputs": [
        {
          "output_type": "execute_result",
          "data": {
            "text/plain": [
              "[('white', 0.9396378993988037),\n",
              " ('wrong', 0.7972461581230164),\n",
              " ('fortune', 0.7770756483078003),\n",
              " ('worth', 0.7764859199523926),\n",
              " (\"thinkin'\", 0.7687566876411438),\n",
              " ('three', 0.7634273171424866),\n",
              " ('tender', 0.7586590051651001),\n",
              " ('hate', 0.7563269734382629),\n",
              " ('vegetable', 0.7454425096511841),\n",
              " (\"livin'\", 0.7354086637496948)]"
            ]
          },
          "metadata": {},
          "execution_count": 46
        }
      ]
    },
    {
      "cell_type": "markdown",
      "source": [
        "### **Palabras menos relacionadas**"
      ],
      "metadata": {
        "id": "MmJnzaI4RJN4"
      },
      "id": "MmJnzaI4RJN4"
    },
    {
      "cell_type": "code",
      "source": [
        "# Palabras que MENOS se relacionan con...:\n",
        "w2v_model.wv.most_similar(negative=[\"billie\"], topn=10)"
      ],
      "metadata": {
        "outputId": "42f46b9e-f20b-4e5d-849b-177e577a1120",
        "colab": {
          "base_uri": "https://localhost:8080/"
        },
        "id": "Y9YiBLCxQ0ez"
      },
      "execution_count": 47,
      "outputs": [
        {
          "output_type": "execute_result",
          "data": {
            "text/plain": [
              "[('siedah', 0.08880365639925003),\n",
              " ('stevie', 0.06315400451421738),\n",
              " ('refrain', 0.03693493828177452),\n",
              " ('uuh', 0.02843785099685192),\n",
              " ('cheater', -0.015202286653220654),\n",
              " ('pitbull', -0.05214293673634529),\n",
              " ('it', -0.13868212699890137),\n",
              " (\"don't\", -0.1431846022605896),\n",
              " ('stop', -0.1578296422958374),\n",
              " ('scream', -0.16708211600780487)]"
            ]
          },
          "metadata": {},
          "execution_count": 47
        }
      ],
      "id": "Y9YiBLCxQ0ez"
    },
    {
      "cell_type": "code",
      "source": [
        "# Palabras que MENOS se relacionan con...:\n",
        "w2v_model.wv.most_similar(negative=[\"bad\"], topn=10)"
      ],
      "metadata": {
        "outputId": "f9a656c6-f05f-4bb5-ee9d-09ea0a1c66b2",
        "colab": {
          "base_uri": "https://localhost:8080/"
        },
        "id": "aN_Mno6lQ0e0"
      },
      "execution_count": 48,
      "outputs": [
        {
          "output_type": "execute_result",
          "data": {
            "text/plain": [
              "[('siedah', 0.12770289182662964),\n",
              " ('pitbull', 0.08121579140424728),\n",
              " ('refrain', 0.049132056534290314),\n",
              " ('stevie', -0.029392410069704056),\n",
              " ('cheater', -0.06629934906959534),\n",
              " ('change', -0.0717666819691658),\n",
              " ('uuh', -0.08303966373205185),\n",
              " ('blow', -0.10409306734800339),\n",
              " ('will', -0.11063224077224731),\n",
              " ('inside', -0.12235770374536514)]"
            ]
          },
          "metadata": {},
          "execution_count": 48
        }
      ],
      "id": "aN_Mno6lQ0e0"
    },
    {
      "cell_type": "code",
      "source": [
        "# Palabras que MENOS se relacionan con...:\n",
        "w2v_model.wv.most_similar(negative=[\"beat\"], topn=10)"
      ],
      "metadata": {
        "outputId": "5f1c6947-705b-4181-ac57-81491cc48304",
        "colab": {
          "base_uri": "https://localhost:8080/"
        },
        "id": "Yrimo66TQ0e0"
      },
      "execution_count": 49,
      "outputs": [
        {
          "output_type": "execute_result",
          "data": {
            "text/plain": [
              "[('siedah', 0.09622729569673538),\n",
              " ('refrain', 0.03831429034471512),\n",
              " ('pitbull', -0.00527867441996932),\n",
              " ('stevie', -0.013235347345471382),\n",
              " ('uuh', -0.01904524490237236),\n",
              " ('cheater', -0.059486161917448044),\n",
              " ('not', -0.10853369534015656),\n",
              " ('been', -0.15916754305362701),\n",
              " ('here', -0.16139407455921173),\n",
              " ('jean', -0.16279557347297668)]"
            ]
          },
          "metadata": {},
          "execution_count": 49
        }
      ],
      "id": "Yrimo66TQ0e0"
    },
    {
      "cell_type": "code",
      "source": [
        "# Palabras que MENOS se relacionan con...:\n",
        "w2v_model.wv.most_similar(negative=[\"thriller\"], topn=10)"
      ],
      "metadata": {
        "outputId": "73bfdd81-be74-43bc-961d-149fefe10942",
        "colab": {
          "base_uri": "https://localhost:8080/"
        },
        "id": "YuanmVLBQ0e1"
      },
      "execution_count": 50,
      "outputs": [
        {
          "output_type": "execute_result",
          "data": {
            "text/plain": [
              "[('siedah', 0.05236116424202919),\n",
              " ('uuh', 0.04429216310381889),\n",
              " ('refrain', 0.0350535623729229),\n",
              " ('stevie', 0.02821505255997181),\n",
              " ('pitbull', -0.013330912217497826),\n",
              " ('cheater', -0.04890734702348709),\n",
              " ('happens', -0.12231556326150894),\n",
              " ('let', -0.12501895427703857),\n",
              " ('whatever', -0.1350388377904892),\n",
              " (\"g'on\", -0.14043830335140228)]"
            ]
          },
          "metadata": {},
          "execution_count": 50
        }
      ],
      "id": "YuanmVLBQ0e1"
    },
    {
      "cell_type": "code",
      "source": [
        "# Palabras que MENOS se relacionan con...:\n",
        "w2v_model.wv.most_similar(negative=[\"black\"], topn=10)"
      ],
      "metadata": {
        "outputId": "f329b18d-0dfc-4b1d-c3a1-598a4533edfd",
        "colab": {
          "base_uri": "https://localhost:8080/"
        },
        "id": "UgRXmoY4Q0e1"
      },
      "execution_count": 51,
      "outputs": [
        {
          "output_type": "execute_result",
          "data": {
            "text/plain": [
              "[('siedah', 0.10188192874193192),\n",
              " ('refrain', 0.09691575169563293),\n",
              " ('stevie', -0.01947762630879879),\n",
              " ('uuh', -0.028117647394537926),\n",
              " ('pitbull', -0.03136733919382095),\n",
              " ('cheater', -0.09709453582763672),\n",
              " ('tonight', -0.0988728255033493),\n",
              " ('got', -0.16357094049453735),\n",
              " ('stay', -0.16817636787891388),\n",
              " ('baby', -0.16904719173908234)]"
            ]
          },
          "metadata": {},
          "execution_count": 51
        }
      ],
      "id": "UgRXmoY4Q0e1"
    },
    {
      "cell_type": "markdown",
      "source": [
        "Utilizando las mismas palabras que para ver las menos similares es interesante notar que hay muchas que se repiten: siedah, refrain, uuh, pitbull, cheater. Eso da a entener que eran palabras que solo existieron en una o pocas canciones de Michael Jackson."
      ],
      "metadata": {
        "id": "_p2EoKTsUH94"
      },
      "id": "_p2EoKTsUH94"
    },
    {
      "cell_type": "markdown",
      "source": [
        "### **Gráficos**"
      ],
      "metadata": {
        "id": "AE309dLIRlJd"
      },
      "id": "AE309dLIRlJd"
    },
    {
      "cell_type": "code",
      "source": [
        "from sklearn.decomposition import IncrementalPCA\n",
        "from sklearn.manifold import TSNE\n",
        "import numpy as np\n",
        "\n",
        "def reduce_dimensions(model, num_dimensions = 2 ):\n",
        "\n",
        "    vectors = np.asarray(model.wv.vectors)\n",
        "    labels = np.asarray(model.wv.index_to_key)\n",
        "\n",
        "    tsne = TSNE(n_components=num_dimensions, random_state=0)\n",
        "    vectors = tsne.fit_transform(vectors)\n",
        "\n",
        "    return vectors, labels"
      ],
      "metadata": {
        "id": "_KRtjz0G5JJw"
      },
      "id": "_KRtjz0G5JJw",
      "execution_count": 52,
      "outputs": []
    },
    {
      "cell_type": "code",
      "source": [
        "# Graficar los embedddings en 2D\n",
        "import plotly.graph_objects as go\n",
        "import plotly.express as px\n",
        "\n",
        "vecs, labels = reduce_dimensions(w2v_model)\n",
        "\n",
        "MAX_WORDS=200\n",
        "fig = px.scatter(x=vecs[:MAX_WORDS,0], y=vecs[:MAX_WORDS,1], text=labels[:MAX_WORDS])\n",
        "fig.show(renderer=\"colab\") # esto para plotly en colab"
      ],
      "metadata": {
        "colab": {
          "base_uri": "https://localhost:8080/",
          "height": 542
        },
        "id": "AD5ZAk485MhI",
        "outputId": "542774f1-5091-40ab-8ad7-3ea90d93033e"
      },
      "id": "AD5ZAk485MhI",
      "execution_count": 53,
      "outputs": [
        {
          "output_type": "display_data",
          "data": {
            "text/html": [
              "<html>\n",
              "<head><meta charset=\"utf-8\" /></head>\n",
              "<body>\n",
              "    <div>            <script src=\"https://cdnjs.cloudflare.com/ajax/libs/mathjax/2.7.5/MathJax.js?config=TeX-AMS-MML_SVG\"></script><script type=\"text/javascript\">if (window.MathJax && window.MathJax.Hub && window.MathJax.Hub.Config) {window.MathJax.Hub.Config({SVG: {font: \"STIX-Web\"}});}</script>                <script type=\"text/javascript\">window.PlotlyConfig = {MathJaxConfig: 'local'};</script>\n",
              "        <script charset=\"utf-8\" src=\"https://cdn.plot.ly/plotly-2.35.2.min.js\"></script>                <div id=\"45a7b8be-136b-4e8c-9387-f16049f5aebc\" class=\"plotly-graph-div\" style=\"height:525px; width:100%;\"></div>            <script type=\"text/javascript\">                                    window.PLOTLYENV=window.PLOTLYENV || {};                                    if (document.getElementById(\"45a7b8be-136b-4e8c-9387-f16049f5aebc\")) {                    Plotly.newPlot(                        \"45a7b8be-136b-4e8c-9387-f16049f5aebc\",                        [{\"hovertemplate\":\"x=%{x}\\u003cbr\\u003ey=%{y}\\u003cbr\\u003etext=%{text}\\u003cextra\\u003e\\u003c\\u002fextra\\u003e\",\"legendgroup\":\"\",\"marker\":{\"color\":\"#636efa\",\"symbol\":\"circle\"},\"mode\":\"markers+text\",\"name\":\"\",\"orientation\":\"v\",\"showlegend\":false,\"text\":[\"you\",\"the\",\"i\",\"me\",\"to\",\"and\",\"it\",\"a\",\"my\",\"in\",\"love\",\"your\",\"don't\",\"is\",\"of\",\"that\",\"on\",\"just\",\"be\",\"for\",\"all\",\"baby\",\"so\",\"know\",\"no\",\"you're\",\"i'm\",\"do\",\"get\",\"got\",\"what\",\"girl\",\"she\",\"are\",\"with\",\"yeah\",\"bad\",\"make\",\"it's\",\"we\",\"like\",\"can\",\"but\",\"if\",\"really\",\"about\",\"when\",\"can't\",\"this\",\"let\",\"oh\",\"wanna\",\"too\",\"he\",\"world\",\"stop\",\"now\",\"take\",\"there\",\"her\",\"give\",\"time\",\"go\",\"see\",\"come\",\"keep\",\"how\",\"will\",\"why\",\"one\",\"ain't\",\"way\",\"they\",\"life\",\"have\",\"right\",\"chorus\",\"away\",\"feel\",\"not\",\"around\",\"gonna\",\"say\",\"up\",\"down\",\"she's\",\"was\",\"out\",\"tell\",\"day\",\"want\",\"hold\",\"hee\",\"'cause\",\"night\",\"never\",\"alone\",\"i'll\",\"then\",\"am\",\"who\",\"we're\",\"us\",\"heart\",\"michael\",\"mine\",\"at\",\"need\",\"back\",\"man\",\"there's\",\"every\",\"from\",\"here\",\"dah\",\"had\",\"hand\",\"enough\",\"things\",\"leave\",\"verse\",\"change\",\"cry\",\"or\",\"that's\",\"much\",\"na\",\"won't\",\"did\",\"would\",\"gone\",\"look\",\"said\",\"better\",\"as\",\"hoo\",\"you'll\",\"always\",\"ooh\",\"matter\",\"remember\",\"where\",\"could\",\"by\",\"because\",\"care\",\"doesn't\",\"i've\",\"place\",\"through\",\"good\",\"stay\",\"our\",\"'til\",\"soul\",\"anything\",\"off\",\"some\",\"still\",\"forever\",\"eyes\",\"only\",\"though\",\"should\",\"thought\",\"ok\",\"gotta\",\"live\",\"beat\",\"think\",\"find\",\"been\",\"don’t\",\"ever\",\"annie\",\"da\",\"free\",\"again\",\"thing\",\"came\",\"dance\",\"told\",\"workin'\",\"mind\",\"together\",\"tonight\",\"wants\",\"over\",\"refrain\",\"more\",\"has\",\"people\",\"his\",\"scream\",\"before\",\"money\",\"cold\",\"him\",\"fly\",\"does\"],\"x\":[5.6480007,-28.462353,6.2066417,18.142351,11.040548,3.4369884,-4.8825645,-9.293863,-15.402595,-13.502569,-7.8047347,28.186172,0.3865091,-6.9506097,-18.007246,7.304432,-27.9515,5.781629,16.022535,-4.4124794,7.6496286,21.50638,11.572205,19.315527,7.6661863,-0.1984582,20.219564,8.429894,-13.933705,13.65521,12.047689,-11.4375105,23.383657,-16.926167,-23.977636,-23.962034,20.884474,-2.259129,18.498928,6.201991,-2.366752,12.139594,15.237581,9.588995,28.119822,13.864606,15.527034,4.0205035,-10.804892,2.535412,4.2092586,1.4870665,15.99763,7.1405077,-24.573425,-0.29727998,11.103592,-14.9075,9.353149,27.701456,-4.9964767,4.3329206,-0.54887015,-2.1925836,-12.718831,-24.829865,-9.649315,10.926388,4.350275,26.745667,14.704481,-11.399553,9.26665,-10.301423,18.849726,-16.086548,0.04941231,14.893796,-13.012192,-34.543728,7.3952055,8.712794,13.342673,-22.847385,11.358732,3.2795117,9.910428,-2.3462143,1.8118329,-16.626066,7.053888,-18.332237,15.558924,18.798067,-14.584144,17.430275,14.721666,12.20302,2.9756167,-7.912561,-23.948038,20.434532,12.26571,-15.802762,7.6446314,-12.406907,3.2712662,1.2681103,-14.057002,-13.578194,-2.3074713,-10.990334,-11.701083,8.986913,1.277291,26.2888,-17.791409,3.8675342,0.5897167,27.528378,-0.15547891,-23.28474,-19.479376,9.517278,-10.43698,16.637945,9.630665,0.2747549,4.1858754,10.274779,12.449802,2.1629848,19.313303,-1.6593506,6.3924446,15.349203,12.275546,9.968278,-11.068733,-9.656152,9.578427,2.8326423,12.569708,18.161205,21.54499,10.695913,-6.5726333,25.571878,24.558884,-0.56186306,11.734779,6.492685,-14.815384,1.7524272,-29.47224,-5.3391623,-24.7563,3.5186992,12.892392,8.831118,-17.407806,14.845897,22.383024,19.16583,27.515362,-16.369574,28.743273,-24.960867,-7.1848936,19.68266,15.919905,24.526688,9.025714,6.7927275,-16.444824,-1.3394896,-2.2744486,2.0033267,7.944725,-20.093077,-27.388391,17.528078,-17.376505,-8.613372,-11.924834,15.590471,22.808872,-26.94446,27.670578,25.955374,-23.398863,20.955578,-10.711497,-4.0017486,23.732738,-5.474222,-13.177666,2.4125073,-19.957392,-11.937589],\"xaxis\":\"x\",\"y\":[13.384936,-2.0731173,14.7330065,2.8053799,8.2832365,3.166253,27.867817,-23.63494,-1.2323111,-7.203069,6.9169765,-3.918405,27.898691,-12.473176,-23.35388,13.599499,5.684457,20.938902,22.261976,7.652958,-4.5276074,19.403856,-2.072733,-1.8128304,-17.555107,-14.825797,-3.4477072,19.704126,9.691177,-1.3442693,24.370955,7.6202545,11.865837,28.454973,9.603024,-18.220387,-2.436724,19.630888,-13.935259,12.324378,6.2450438,13.467366,15.760116,22.897936,8.390594,27.484858,13.049605,23.741886,-9.75279,26.719893,-22.485659,18.963194,-13.322161,18.628584,15.286897,29.978285,-10.626565,17.772114,2.9213262,-2.7486722,20.381742,5.1273174,25.852694,15.959125,17.273306,4.865528,27.462519,10.387123,17.044653,2.0565479,-13.488697,21.98894,13.61615,-7.4815273,6.482176,8.242766,-27.61378,-20.741287,24.02777,11.576134,34.41158,9.856266,19.521046,-10.109664,-20.725367,-18.430454,0.71581477,-24.911856,13.407451,-16.232906,22.120852,0.6388616,-31.771338,-5.2033296,-15.024158,14.590091,2.933017,15.620835,17.911882,23.655714,12.628061,-6.882965,29.376913,-4.0564075,-27.33661,6.8998103,-14.649318,8.998185,15.400962,-18.507502,-15.461084,-15.98679,1.6308926,8.347694,-12.347795,7.6668878,-0.7821529,29.256609,20.830126,16.4573,-27.771252,17.696648,1.7393174,-2.7555454,25.17105,-12.013996,-26.873451,23.52437,20.102434,17.444733,-11.73132,-15.830855,13.020057,22.476131,-9.110979,-29.898554,15.577836,4.8868976,9.619271,29.685877,19.561605,20.398115,17.704535,-8.515563,-0.49390113,26.060352,29.129297,-9.206497,3.716057,-8.3810625,-14.680777,8.61035,21.587244,29.235094,-7.498846,7.617232,-4.8935537,8.87615,5.9837513,6.274638,-6.779323,19.794514,-5.0616026,9.017073,8.443627,29.256609,15.114479,-6.27531,20.310356,-21.23611,17.404716,-11.209512,33.32569,26.481098,29.162329,-33.59037,7.3409,15.9961405,-10.023251,-4.7676616,-0.23014012,8.46069,-13.995896,1.6425707,14.577722,0.5646965,13.389587,-17.001097,-20.288198,1.5974224,14.243055,-10.618986,-13.729563,22.803782,-11.050803,7.598948,-21.007242,14.490489,9.6896715,26.868443],\"yaxis\":\"y\",\"type\":\"scatter\"}],                        {\"template\":{\"data\":{\"histogram2dcontour\":[{\"type\":\"histogram2dcontour\",\"colorbar\":{\"outlinewidth\":0,\"ticks\":\"\"},\"colorscale\":[[0.0,\"#0d0887\"],[0.1111111111111111,\"#46039f\"],[0.2222222222222222,\"#7201a8\"],[0.3333333333333333,\"#9c179e\"],[0.4444444444444444,\"#bd3786\"],[0.5555555555555556,\"#d8576b\"],[0.6666666666666666,\"#ed7953\"],[0.7777777777777778,\"#fb9f3a\"],[0.8888888888888888,\"#fdca26\"],[1.0,\"#f0f921\"]]}],\"choropleth\":[{\"type\":\"choropleth\",\"colorbar\":{\"outlinewidth\":0,\"ticks\":\"\"}}],\"histogram2d\":[{\"type\":\"histogram2d\",\"colorbar\":{\"outlinewidth\":0,\"ticks\":\"\"},\"colorscale\":[[0.0,\"#0d0887\"],[0.1111111111111111,\"#46039f\"],[0.2222222222222222,\"#7201a8\"],[0.3333333333333333,\"#9c179e\"],[0.4444444444444444,\"#bd3786\"],[0.5555555555555556,\"#d8576b\"],[0.6666666666666666,\"#ed7953\"],[0.7777777777777778,\"#fb9f3a\"],[0.8888888888888888,\"#fdca26\"],[1.0,\"#f0f921\"]]}],\"heatmap\":[{\"type\":\"heatmap\",\"colorbar\":{\"outlinewidth\":0,\"ticks\":\"\"},\"colorscale\":[[0.0,\"#0d0887\"],[0.1111111111111111,\"#46039f\"],[0.2222222222222222,\"#7201a8\"],[0.3333333333333333,\"#9c179e\"],[0.4444444444444444,\"#bd3786\"],[0.5555555555555556,\"#d8576b\"],[0.6666666666666666,\"#ed7953\"],[0.7777777777777778,\"#fb9f3a\"],[0.8888888888888888,\"#fdca26\"],[1.0,\"#f0f921\"]]}],\"heatmapgl\":[{\"type\":\"heatmapgl\",\"colorbar\":{\"outlinewidth\":0,\"ticks\":\"\"},\"colorscale\":[[0.0,\"#0d0887\"],[0.1111111111111111,\"#46039f\"],[0.2222222222222222,\"#7201a8\"],[0.3333333333333333,\"#9c179e\"],[0.4444444444444444,\"#bd3786\"],[0.5555555555555556,\"#d8576b\"],[0.6666666666666666,\"#ed7953\"],[0.7777777777777778,\"#fb9f3a\"],[0.8888888888888888,\"#fdca26\"],[1.0,\"#f0f921\"]]}],\"contourcarpet\":[{\"type\":\"contourcarpet\",\"colorbar\":{\"outlinewidth\":0,\"ticks\":\"\"}}],\"contour\":[{\"type\":\"contour\",\"colorbar\":{\"outlinewidth\":0,\"ticks\":\"\"},\"colorscale\":[[0.0,\"#0d0887\"],[0.1111111111111111,\"#46039f\"],[0.2222222222222222,\"#7201a8\"],[0.3333333333333333,\"#9c179e\"],[0.4444444444444444,\"#bd3786\"],[0.5555555555555556,\"#d8576b\"],[0.6666666666666666,\"#ed7953\"],[0.7777777777777778,\"#fb9f3a\"],[0.8888888888888888,\"#fdca26\"],[1.0,\"#f0f921\"]]}],\"surface\":[{\"type\":\"surface\",\"colorbar\":{\"outlinewidth\":0,\"ticks\":\"\"},\"colorscale\":[[0.0,\"#0d0887\"],[0.1111111111111111,\"#46039f\"],[0.2222222222222222,\"#7201a8\"],[0.3333333333333333,\"#9c179e\"],[0.4444444444444444,\"#bd3786\"],[0.5555555555555556,\"#d8576b\"],[0.6666666666666666,\"#ed7953\"],[0.7777777777777778,\"#fb9f3a\"],[0.8888888888888888,\"#fdca26\"],[1.0,\"#f0f921\"]]}],\"mesh3d\":[{\"type\":\"mesh3d\",\"colorbar\":{\"outlinewidth\":0,\"ticks\":\"\"}}],\"scatter\":[{\"fillpattern\":{\"fillmode\":\"overlay\",\"size\":10,\"solidity\":0.2},\"type\":\"scatter\"}],\"parcoords\":[{\"type\":\"parcoords\",\"line\":{\"colorbar\":{\"outlinewidth\":0,\"ticks\":\"\"}}}],\"scatterpolargl\":[{\"type\":\"scatterpolargl\",\"marker\":{\"colorbar\":{\"outlinewidth\":0,\"ticks\":\"\"}}}],\"bar\":[{\"error_x\":{\"color\":\"#2a3f5f\"},\"error_y\":{\"color\":\"#2a3f5f\"},\"marker\":{\"line\":{\"color\":\"#E5ECF6\",\"width\":0.5},\"pattern\":{\"fillmode\":\"overlay\",\"size\":10,\"solidity\":0.2}},\"type\":\"bar\"}],\"scattergeo\":[{\"type\":\"scattergeo\",\"marker\":{\"colorbar\":{\"outlinewidth\":0,\"ticks\":\"\"}}}],\"scatterpolar\":[{\"type\":\"scatterpolar\",\"marker\":{\"colorbar\":{\"outlinewidth\":0,\"ticks\":\"\"}}}],\"histogram\":[{\"marker\":{\"pattern\":{\"fillmode\":\"overlay\",\"size\":10,\"solidity\":0.2}},\"type\":\"histogram\"}],\"scattergl\":[{\"type\":\"scattergl\",\"marker\":{\"colorbar\":{\"outlinewidth\":0,\"ticks\":\"\"}}}],\"scatter3d\":[{\"type\":\"scatter3d\",\"line\":{\"colorbar\":{\"outlinewidth\":0,\"ticks\":\"\"}},\"marker\":{\"colorbar\":{\"outlinewidth\":0,\"ticks\":\"\"}}}],\"scattermapbox\":[{\"type\":\"scattermapbox\",\"marker\":{\"colorbar\":{\"outlinewidth\":0,\"ticks\":\"\"}}}],\"scatterternary\":[{\"type\":\"scatterternary\",\"marker\":{\"colorbar\":{\"outlinewidth\":0,\"ticks\":\"\"}}}],\"scattercarpet\":[{\"type\":\"scattercarpet\",\"marker\":{\"colorbar\":{\"outlinewidth\":0,\"ticks\":\"\"}}}],\"carpet\":[{\"aaxis\":{\"endlinecolor\":\"#2a3f5f\",\"gridcolor\":\"white\",\"linecolor\":\"white\",\"minorgridcolor\":\"white\",\"startlinecolor\":\"#2a3f5f\"},\"baxis\":{\"endlinecolor\":\"#2a3f5f\",\"gridcolor\":\"white\",\"linecolor\":\"white\",\"minorgridcolor\":\"white\",\"startlinecolor\":\"#2a3f5f\"},\"type\":\"carpet\"}],\"table\":[{\"cells\":{\"fill\":{\"color\":\"#EBF0F8\"},\"line\":{\"color\":\"white\"}},\"header\":{\"fill\":{\"color\":\"#C8D4E3\"},\"line\":{\"color\":\"white\"}},\"type\":\"table\"}],\"barpolar\":[{\"marker\":{\"line\":{\"color\":\"#E5ECF6\",\"width\":0.5},\"pattern\":{\"fillmode\":\"overlay\",\"size\":10,\"solidity\":0.2}},\"type\":\"barpolar\"}],\"pie\":[{\"automargin\":true,\"type\":\"pie\"}]},\"layout\":{\"autotypenumbers\":\"strict\",\"colorway\":[\"#636efa\",\"#EF553B\",\"#00cc96\",\"#ab63fa\",\"#FFA15A\",\"#19d3f3\",\"#FF6692\",\"#B6E880\",\"#FF97FF\",\"#FECB52\"],\"font\":{\"color\":\"#2a3f5f\"},\"hovermode\":\"closest\",\"hoverlabel\":{\"align\":\"left\"},\"paper_bgcolor\":\"white\",\"plot_bgcolor\":\"#E5ECF6\",\"polar\":{\"bgcolor\":\"#E5ECF6\",\"angularaxis\":{\"gridcolor\":\"white\",\"linecolor\":\"white\",\"ticks\":\"\"},\"radialaxis\":{\"gridcolor\":\"white\",\"linecolor\":\"white\",\"ticks\":\"\"}},\"ternary\":{\"bgcolor\":\"#E5ECF6\",\"aaxis\":{\"gridcolor\":\"white\",\"linecolor\":\"white\",\"ticks\":\"\"},\"baxis\":{\"gridcolor\":\"white\",\"linecolor\":\"white\",\"ticks\":\"\"},\"caxis\":{\"gridcolor\":\"white\",\"linecolor\":\"white\",\"ticks\":\"\"}},\"coloraxis\":{\"colorbar\":{\"outlinewidth\":0,\"ticks\":\"\"}},\"colorscale\":{\"sequential\":[[0.0,\"#0d0887\"],[0.1111111111111111,\"#46039f\"],[0.2222222222222222,\"#7201a8\"],[0.3333333333333333,\"#9c179e\"],[0.4444444444444444,\"#bd3786\"],[0.5555555555555556,\"#d8576b\"],[0.6666666666666666,\"#ed7953\"],[0.7777777777777778,\"#fb9f3a\"],[0.8888888888888888,\"#fdca26\"],[1.0,\"#f0f921\"]],\"sequentialminus\":[[0.0,\"#0d0887\"],[0.1111111111111111,\"#46039f\"],[0.2222222222222222,\"#7201a8\"],[0.3333333333333333,\"#9c179e\"],[0.4444444444444444,\"#bd3786\"],[0.5555555555555556,\"#d8576b\"],[0.6666666666666666,\"#ed7953\"],[0.7777777777777778,\"#fb9f3a\"],[0.8888888888888888,\"#fdca26\"],[1.0,\"#f0f921\"]],\"diverging\":[[0,\"#8e0152\"],[0.1,\"#c51b7d\"],[0.2,\"#de77ae\"],[0.3,\"#f1b6da\"],[0.4,\"#fde0ef\"],[0.5,\"#f7f7f7\"],[0.6,\"#e6f5d0\"],[0.7,\"#b8e186\"],[0.8,\"#7fbc41\"],[0.9,\"#4d9221\"],[1,\"#276419\"]]},\"xaxis\":{\"gridcolor\":\"white\",\"linecolor\":\"white\",\"ticks\":\"\",\"title\":{\"standoff\":15},\"zerolinecolor\":\"white\",\"automargin\":true,\"zerolinewidth\":2},\"yaxis\":{\"gridcolor\":\"white\",\"linecolor\":\"white\",\"ticks\":\"\",\"title\":{\"standoff\":15},\"zerolinecolor\":\"white\",\"automargin\":true,\"zerolinewidth\":2},\"scene\":{\"xaxis\":{\"backgroundcolor\":\"#E5ECF6\",\"gridcolor\":\"white\",\"linecolor\":\"white\",\"showbackground\":true,\"ticks\":\"\",\"zerolinecolor\":\"white\",\"gridwidth\":2},\"yaxis\":{\"backgroundcolor\":\"#E5ECF6\",\"gridcolor\":\"white\",\"linecolor\":\"white\",\"showbackground\":true,\"ticks\":\"\",\"zerolinecolor\":\"white\",\"gridwidth\":2},\"zaxis\":{\"backgroundcolor\":\"#E5ECF6\",\"gridcolor\":\"white\",\"linecolor\":\"white\",\"showbackground\":true,\"ticks\":\"\",\"zerolinecolor\":\"white\",\"gridwidth\":2}},\"shapedefaults\":{\"line\":{\"color\":\"#2a3f5f\"}},\"annotationdefaults\":{\"arrowcolor\":\"#2a3f5f\",\"arrowhead\":0,\"arrowwidth\":1},\"geo\":{\"bgcolor\":\"white\",\"landcolor\":\"#E5ECF6\",\"subunitcolor\":\"white\",\"showland\":true,\"showlakes\":true,\"lakecolor\":\"white\"},\"title\":{\"x\":0.05},\"mapbox\":{\"style\":\"light\"}}},\"xaxis\":{\"anchor\":\"y\",\"domain\":[0.0,1.0],\"title\":{\"text\":\"x\"}},\"yaxis\":{\"anchor\":\"x\",\"domain\":[0.0,1.0],\"title\":{\"text\":\"y\"}},\"legend\":{\"tracegroupgap\":0},\"margin\":{\"t\":60}},                        {\"responsive\": true}                    ).then(function(){\n",
              "                            \n",
              "var gd = document.getElementById('45a7b8be-136b-4e8c-9387-f16049f5aebc');\n",
              "var x = new MutationObserver(function (mutations, observer) {{\n",
              "        var display = window.getComputedStyle(gd).display;\n",
              "        if (!display || display === 'none') {{\n",
              "            console.log([gd, 'removed!']);\n",
              "            Plotly.purge(gd);\n",
              "            observer.disconnect();\n",
              "        }}\n",
              "}});\n",
              "\n",
              "// Listen for the removal of the full notebook cells\n",
              "var notebookContainer = gd.closest('#notebook-container');\n",
              "if (notebookContainer) {{\n",
              "    x.observe(notebookContainer, {childList: true});\n",
              "}}\n",
              "\n",
              "// Listen for the clearing of the current output cell\n",
              "var outputEl = gd.closest('.output');\n",
              "if (outputEl) {{\n",
              "    x.observe(outputEl, {childList: true});\n",
              "}}\n",
              "\n",
              "                        })                };                            </script>        </div>\n",
              "</body>\n",
              "</html>"
            ]
          },
          "metadata": {}
        }
      ]
    },
    {
      "cell_type": "code",
      "source": [
        "# Graficar los embedddings en 3D\n",
        "\n",
        "vecs, labels = reduce_dimensions(w2v_model,3)\n",
        "\n",
        "fig = px.scatter_3d(x=vecs[:MAX_WORDS,0], y=vecs[:MAX_WORDS,1], z=vecs[:MAX_WORDS,2],text=labels[:MAX_WORDS])\n",
        "fig.update_traces(marker_size = 2)\n",
        "fig.show(renderer=\"colab\") # esto para plotly en colab"
      ],
      "metadata": {
        "colab": {
          "base_uri": "https://localhost:8080/",
          "height": 542
        },
        "id": "_pV7juU75Obu",
        "outputId": "b42b3d58-a4b2-42e4-9244-b481df15d5ff"
      },
      "id": "_pV7juU75Obu",
      "execution_count": 54,
      "outputs": [
        {
          "output_type": "display_data",
          "data": {
            "text/html": [
              "<html>\n",
              "<head><meta charset=\"utf-8\" /></head>\n",
              "<body>\n",
              "    <div>            <script src=\"https://cdnjs.cloudflare.com/ajax/libs/mathjax/2.7.5/MathJax.js?config=TeX-AMS-MML_SVG\"></script><script type=\"text/javascript\">if (window.MathJax && window.MathJax.Hub && window.MathJax.Hub.Config) {window.MathJax.Hub.Config({SVG: {font: \"STIX-Web\"}});}</script>                <script type=\"text/javascript\">window.PlotlyConfig = {MathJaxConfig: 'local'};</script>\n",
              "        <script charset=\"utf-8\" src=\"https://cdn.plot.ly/plotly-2.35.2.min.js\"></script>                <div id=\"46d4cce0-94c2-48c9-838a-93cf2367b127\" class=\"plotly-graph-div\" style=\"height:525px; width:100%;\"></div>            <script type=\"text/javascript\">                                    window.PLOTLYENV=window.PLOTLYENV || {};                                    if (document.getElementById(\"46d4cce0-94c2-48c9-838a-93cf2367b127\")) {                    Plotly.newPlot(                        \"46d4cce0-94c2-48c9-838a-93cf2367b127\",                        [{\"hovertemplate\":\"x=%{x}\\u003cbr\\u003ey=%{y}\\u003cbr\\u003ez=%{z}\\u003cbr\\u003etext=%{text}\\u003cextra\\u003e\\u003c\\u002fextra\\u003e\",\"legendgroup\":\"\",\"marker\":{\"color\":\"#636efa\",\"symbol\":\"circle\",\"size\":2},\"mode\":\"markers+text\",\"name\":\"\",\"scene\":\"scene\",\"showlegend\":false,\"text\":[\"you\",\"the\",\"i\",\"me\",\"to\",\"and\",\"it\",\"a\",\"my\",\"in\",\"love\",\"your\",\"don't\",\"is\",\"of\",\"that\",\"on\",\"just\",\"be\",\"for\",\"all\",\"baby\",\"so\",\"know\",\"no\",\"you're\",\"i'm\",\"do\",\"get\",\"got\",\"what\",\"girl\",\"she\",\"are\",\"with\",\"yeah\",\"bad\",\"make\",\"it's\",\"we\",\"like\",\"can\",\"but\",\"if\",\"really\",\"about\",\"when\",\"can't\",\"this\",\"let\",\"oh\",\"wanna\",\"too\",\"he\",\"world\",\"stop\",\"now\",\"take\",\"there\",\"her\",\"give\",\"time\",\"go\",\"see\",\"come\",\"keep\",\"how\",\"will\",\"why\",\"one\",\"ain't\",\"way\",\"they\",\"life\",\"have\",\"right\",\"chorus\",\"away\",\"feel\",\"not\",\"around\",\"gonna\",\"say\",\"up\",\"down\",\"she's\",\"was\",\"out\",\"tell\",\"day\",\"want\",\"hold\",\"hee\",\"'cause\",\"night\",\"never\",\"alone\",\"i'll\",\"then\",\"am\",\"who\",\"we're\",\"us\",\"heart\",\"michael\",\"mine\",\"at\",\"need\",\"back\",\"man\",\"there's\",\"every\",\"from\",\"here\",\"dah\",\"had\",\"hand\",\"enough\",\"things\",\"leave\",\"verse\",\"change\",\"cry\",\"or\",\"that's\",\"much\",\"na\",\"won't\",\"did\",\"would\",\"gone\",\"look\",\"said\",\"better\",\"as\",\"hoo\",\"you'll\",\"always\",\"ooh\",\"matter\",\"remember\",\"where\",\"could\",\"by\",\"because\",\"care\",\"doesn't\",\"i've\",\"place\",\"through\",\"good\",\"stay\",\"our\",\"'til\",\"soul\",\"anything\",\"off\",\"some\",\"still\",\"forever\",\"eyes\",\"only\",\"though\",\"should\",\"thought\",\"ok\",\"gotta\",\"live\",\"beat\",\"think\",\"find\",\"been\",\"don’t\",\"ever\",\"annie\",\"da\",\"free\",\"again\",\"thing\",\"came\",\"dance\",\"told\",\"workin'\",\"mind\",\"together\",\"tonight\",\"wants\",\"over\",\"refrain\",\"more\",\"has\",\"people\",\"his\",\"scream\",\"before\",\"money\",\"cold\",\"him\",\"fly\",\"does\"],\"x\":[14.268912,-5.541943,18.767092,12.734042,22.760153,26.889399,12.92569,-25.1075,-13.819689,-16.342644,-22.812439,1.6192602,27.465166,-26.755821,-41.495823,7.6982884,8.629212,37.04675,19.898012,-23.086592,-28.307892,21.632355,-12.471756,-7.9385676,-4.464034,-26.503923,-6.7804513,14.436777,9.55591,19.367756,13.686176,-22.83031,25.515194,-15.490186,16.63366,9.510201,-13.124044,18.205025,-22.025198,17.852646,-2.2577295,27.500242,7.5158234,24.70878,11.769487,15.771978,16.442299,30.67776,-28.580732,29.218754,-9.290812,28.189863,-16.928724,28.63173,-27.455303,23.476778,0.76793814,7.759665,-4.8941994,5.472067,30.425009,6.1728196,30.308746,15.3491335,12.481901,10.868955,-7.978833,33.747776,34.650673,12.413315,-13.257094,-1.8060082,25.853092,-19.97161,25.683382,10.693609,-2.144593,12.751541,-1.6174028,-33.120354,11.485407,32.22594,18.091537,-2.048191,6.792745,-18.205376,-5.8226843,0.45868316,39.183826,-36.650673,33.64981,-9.847286,8.717176,-2.1752164,-33.92912,22.766878,-1.9372824,26.579243,23.736475,-11.700434,-32.651176,-4.057425,8.707569,-20.618427,3.3284204,-25.312044,-4.6618805,8.819519,9.700619,-27.559649,-21.076017,-32.448425,2.0077622,27.143564,11.878189,9.641526,-13.5246,19.436872,21.270384,15.76859,0.9185081,-22.29725,-7.3265014,0.4667698,-9.261461,-17.88678,-21.43105,32.959087,29.786228,26.846346,-17.08076,1.2477697,16.586214,25.889633,-14.109851,10.941095,29.096903,1.6720353,18.806797,0.5888856,19.586138,32.893612,20.286005,13.323249,-1.8475806,20.215128,6.232765,10.35326,20.684351,3.106027,-4.8478174,24.035154,-12.344732,20.808413,-18.190329,-9.721377,-17.023186,9.192607,-7.8518453,7.961098,-18.295311,23.476526,-11.537891,27.033512,12.812438,-9.109098,14.74037,-16.653666,29.724419,13.037567,13.031159,13.002445,16.355162,37.541355,-11.548216,-14.576871,2.0402935,38.636795,0.42577195,-27.518183,-3.7934458,25.936535,-33.961025,2.3986592,6.619746,-25.870157,26.038866,17.277203,22.56262,8.438942,-29.438066,-4.214157,-1.8363061,35.78382,11.910482,-10.4075985,-30.16892,35.341705,9.170035,-0.85427123],\"y\":[7.026675,31.419052,11.715984,-15.582997,-11.200902,2.5161064,9.5594845,-15.016009,21.483723,3.940246,17.020275,-31.817398,14.80148,-9.678118,-2.9291039,7.4738216,29.06529,11.622364,-6.8751383,8.588983,10.161342,1.0951991,-4.340526,-2.6721153,-33.085037,-12.598952,-9.46883,18.334997,-1.0555056,-30.907131,21.346205,2.4786541,-7.484902,5.502883,13.661124,-4.7086587,-7.8732014,19.768822,-12.120797,12.911858,10.400072,-5.5169635,0.5598125,14.200808,-22.840471,21.412977,-11.918368,15.433858,0.39887294,23.098911,-35.72316,11.087492,-24.220766,5.765574,21.856785,22.031952,-9.604567,38.10698,-4.906441,-25.95916,-12.491437,20.809633,8.958619,12.053258,36.625923,23.039316,15.918505,-10.890879,2.445906,-32.304466,-27.01628,21.154264,0.19562119,16.134718,-21.7159,7.8999963,-19.03692,11.019322,22.909422,0.6894352,36.22864,-11.2057495,5.628184,4.2083697,-8.175697,-27.722075,4.3043656,-17.771456,-10.384889,11.502853,15.615821,24.268375,-35.780273,-8.813639,10.088785,-13.451015,0.9178697,-2.0425248,5.2197084,4.297495,16.728365,-17.442,25.93726,15.564623,-27.512016,-1.4272238,25.45791,13.261394,29.006445,-2.4206657,-13.746722,5.4681373,10.371305,-15.392959,-2.5583606,-22.105425,22.152206,17.473589,24.523813,1.7301166,-17.275124,24.203268,20.675844,3.8707373,20.26334,-19.792675,-28.25553,9.455295,2.0746062,8.0892515,-18.014132,26.79813,-21.308348,4.536561,-12.298714,-30.68587,-2.5294898,-9.355393,21.613886,11.889771,21.527657,6.675146,-1.5807451,-14.809192,-1.0359907,18.54655,12.969782,-30.725767,-7.0732274,1.3916903,-29.170286,-8.696839,20.825321,15.10933,24.269836,28.831844,28.998777,4.6591115,11.432079,-0.26059356,9.901487,1.3852237,-20.00321,-21.033829,-23.495934,6.8705587,-5.564287,22.026857,23.528984,-22.573591,-1.5064021,-24.705542,32.213158,2.1097202,5.6550894,-22.203684,6.020854,1.6772932,-38.434837,19.844877,38.64582,-15.516712,4.952223,8.637678,38.864864,-28.997349,-15.136581,-2.9455593,-21.389753,-31.58063,19.940187,-28.256351,-2.4940586,14.30877,-20.996054,31.326145,-7.95311,-4.563621,19.934284,18.320036],\"z\":[14.982977,-20.87973,22.140526,10.407165,-0.051994983,-29.514551,32.97824,-19.91119,-25.147053,-17.324852,15.254159,20.047798,-13.33396,-4.060414,-0.54682237,22.98228,-16.156113,12.963273,28.68167,16.969067,6.8294153,-14.127815,17.614353,33.641907,2.3622968,5.0148144,35.723434,11.86973,-21.93695,-4.1114955,18.17074,28.668285,20.732002,36.665462,-21.052813,-31.55941,34.872078,-0.9154405,10.61041,14.390016,19.288113,1.7635306,23.94755,13.665592,27.310331,30.08297,14.958868,7.6619964,2.5259778,-5.6498322,-4.060004,1.3310423,14.322294,16.52033,1.1225566,-10.160223,-27.266205,-8.035909,19.29784,21.486301,19.992792,14.468413,-19.776194,2.6467326,-3.2764037,-23.079697,32.842003,9.182264,14.186103,13.049398,19.278587,18.613472,17.328049,-0.26396558,-0.3018248,-36.28038,-18.584463,-27.851116,25.358492,19.551306,14.645022,-5.7628083,26.170399,-31.98593,-22.769247,3.4578178,21.443838,-28.116684,-1.464257,-12.667785,19.420763,-15.860437,-10.36543,29.577219,-4.543806,14.962121,24.691841,-8.190736,2.9638817,27.739002,3.1148531,33.790474,26.19569,-23.162525,-11.459239,23.060228,10.049204,7.351892,-4.356059,-10.398769,-9.952733,-17.383284,-25.836521,-7.1380105,-15.0878935,8.846636,-13.484508,-8.511293,10.705799,37.858715,-18.35566,10.4869795,-9.700073,41.936485,27.27453,20.064253,-12.934233,-12.134583,2.8158963,23.500053,9.832275,3.8084426,17.877638,-7.7911463,3.4005034,-16.161274,-5.695808,23.19968,-26.243826,36.29874,16.527628,-1.4035901,7.895378,-11.062609,31.027378,25.819115,32.423344,-2.1498673,-17.562578,-13.987875,14.418842,-10.387378,16.060266,-14.771431,-19.126339,19.397701,-5.153404,13.346459,16.063818,16.923061,-24.064476,27.553783,31.991814,7.8810573,23.464418,37.29957,37.775192,-2.6808264,3.2471552,-27.56519,28.798582,-6.6665406,18.631435,2.5096993,37.18698,-28.360413,19.971924,-8.240399,7.8065495,-13.785219,-14.994561,4.0856185,-9.615833,-13.270175,3.3952851,5.0979066,23.671658,-31.277098,-18.086195,9.352111,8.304792,27.149988,-24.645779,0.8189326,-3.9928882,18.758356,-14.476871,-0.7729543,-31.489233,29.822704],\"type\":\"scatter3d\"}],                        {\"template\":{\"data\":{\"histogram2dcontour\":[{\"type\":\"histogram2dcontour\",\"colorbar\":{\"outlinewidth\":0,\"ticks\":\"\"},\"colorscale\":[[0.0,\"#0d0887\"],[0.1111111111111111,\"#46039f\"],[0.2222222222222222,\"#7201a8\"],[0.3333333333333333,\"#9c179e\"],[0.4444444444444444,\"#bd3786\"],[0.5555555555555556,\"#d8576b\"],[0.6666666666666666,\"#ed7953\"],[0.7777777777777778,\"#fb9f3a\"],[0.8888888888888888,\"#fdca26\"],[1.0,\"#f0f921\"]]}],\"choropleth\":[{\"type\":\"choropleth\",\"colorbar\":{\"outlinewidth\":0,\"ticks\":\"\"}}],\"histogram2d\":[{\"type\":\"histogram2d\",\"colorbar\":{\"outlinewidth\":0,\"ticks\":\"\"},\"colorscale\":[[0.0,\"#0d0887\"],[0.1111111111111111,\"#46039f\"],[0.2222222222222222,\"#7201a8\"],[0.3333333333333333,\"#9c179e\"],[0.4444444444444444,\"#bd3786\"],[0.5555555555555556,\"#d8576b\"],[0.6666666666666666,\"#ed7953\"],[0.7777777777777778,\"#fb9f3a\"],[0.8888888888888888,\"#fdca26\"],[1.0,\"#f0f921\"]]}],\"heatmap\":[{\"type\":\"heatmap\",\"colorbar\":{\"outlinewidth\":0,\"ticks\":\"\"},\"colorscale\":[[0.0,\"#0d0887\"],[0.1111111111111111,\"#46039f\"],[0.2222222222222222,\"#7201a8\"],[0.3333333333333333,\"#9c179e\"],[0.4444444444444444,\"#bd3786\"],[0.5555555555555556,\"#d8576b\"],[0.6666666666666666,\"#ed7953\"],[0.7777777777777778,\"#fb9f3a\"],[0.8888888888888888,\"#fdca26\"],[1.0,\"#f0f921\"]]}],\"heatmapgl\":[{\"type\":\"heatmapgl\",\"colorbar\":{\"outlinewidth\":0,\"ticks\":\"\"},\"colorscale\":[[0.0,\"#0d0887\"],[0.1111111111111111,\"#46039f\"],[0.2222222222222222,\"#7201a8\"],[0.3333333333333333,\"#9c179e\"],[0.4444444444444444,\"#bd3786\"],[0.5555555555555556,\"#d8576b\"],[0.6666666666666666,\"#ed7953\"],[0.7777777777777778,\"#fb9f3a\"],[0.8888888888888888,\"#fdca26\"],[1.0,\"#f0f921\"]]}],\"contourcarpet\":[{\"type\":\"contourcarpet\",\"colorbar\":{\"outlinewidth\":0,\"ticks\":\"\"}}],\"contour\":[{\"type\":\"contour\",\"colorbar\":{\"outlinewidth\":0,\"ticks\":\"\"},\"colorscale\":[[0.0,\"#0d0887\"],[0.1111111111111111,\"#46039f\"],[0.2222222222222222,\"#7201a8\"],[0.3333333333333333,\"#9c179e\"],[0.4444444444444444,\"#bd3786\"],[0.5555555555555556,\"#d8576b\"],[0.6666666666666666,\"#ed7953\"],[0.7777777777777778,\"#fb9f3a\"],[0.8888888888888888,\"#fdca26\"],[1.0,\"#f0f921\"]]}],\"surface\":[{\"type\":\"surface\",\"colorbar\":{\"outlinewidth\":0,\"ticks\":\"\"},\"colorscale\":[[0.0,\"#0d0887\"],[0.1111111111111111,\"#46039f\"],[0.2222222222222222,\"#7201a8\"],[0.3333333333333333,\"#9c179e\"],[0.4444444444444444,\"#bd3786\"],[0.5555555555555556,\"#d8576b\"],[0.6666666666666666,\"#ed7953\"],[0.7777777777777778,\"#fb9f3a\"],[0.8888888888888888,\"#fdca26\"],[1.0,\"#f0f921\"]]}],\"mesh3d\":[{\"type\":\"mesh3d\",\"colorbar\":{\"outlinewidth\":0,\"ticks\":\"\"}}],\"scatter\":[{\"fillpattern\":{\"fillmode\":\"overlay\",\"size\":10,\"solidity\":0.2},\"type\":\"scatter\"}],\"parcoords\":[{\"type\":\"parcoords\",\"line\":{\"colorbar\":{\"outlinewidth\":0,\"ticks\":\"\"}}}],\"scatterpolargl\":[{\"type\":\"scatterpolargl\",\"marker\":{\"colorbar\":{\"outlinewidth\":0,\"ticks\":\"\"}}}],\"bar\":[{\"error_x\":{\"color\":\"#2a3f5f\"},\"error_y\":{\"color\":\"#2a3f5f\"},\"marker\":{\"line\":{\"color\":\"#E5ECF6\",\"width\":0.5},\"pattern\":{\"fillmode\":\"overlay\",\"size\":10,\"solidity\":0.2}},\"type\":\"bar\"}],\"scattergeo\":[{\"type\":\"scattergeo\",\"marker\":{\"colorbar\":{\"outlinewidth\":0,\"ticks\":\"\"}}}],\"scatterpolar\":[{\"type\":\"scatterpolar\",\"marker\":{\"colorbar\":{\"outlinewidth\":0,\"ticks\":\"\"}}}],\"histogram\":[{\"marker\":{\"pattern\":{\"fillmode\":\"overlay\",\"size\":10,\"solidity\":0.2}},\"type\":\"histogram\"}],\"scattergl\":[{\"type\":\"scattergl\",\"marker\":{\"colorbar\":{\"outlinewidth\":0,\"ticks\":\"\"}}}],\"scatter3d\":[{\"type\":\"scatter3d\",\"line\":{\"colorbar\":{\"outlinewidth\":0,\"ticks\":\"\"}},\"marker\":{\"colorbar\":{\"outlinewidth\":0,\"ticks\":\"\"}}}],\"scattermapbox\":[{\"type\":\"scattermapbox\",\"marker\":{\"colorbar\":{\"outlinewidth\":0,\"ticks\":\"\"}}}],\"scatterternary\":[{\"type\":\"scatterternary\",\"marker\":{\"colorbar\":{\"outlinewidth\":0,\"ticks\":\"\"}}}],\"scattercarpet\":[{\"type\":\"scattercarpet\",\"marker\":{\"colorbar\":{\"outlinewidth\":0,\"ticks\":\"\"}}}],\"carpet\":[{\"aaxis\":{\"endlinecolor\":\"#2a3f5f\",\"gridcolor\":\"white\",\"linecolor\":\"white\",\"minorgridcolor\":\"white\",\"startlinecolor\":\"#2a3f5f\"},\"baxis\":{\"endlinecolor\":\"#2a3f5f\",\"gridcolor\":\"white\",\"linecolor\":\"white\",\"minorgridcolor\":\"white\",\"startlinecolor\":\"#2a3f5f\"},\"type\":\"carpet\"}],\"table\":[{\"cells\":{\"fill\":{\"color\":\"#EBF0F8\"},\"line\":{\"color\":\"white\"}},\"header\":{\"fill\":{\"color\":\"#C8D4E3\"},\"line\":{\"color\":\"white\"}},\"type\":\"table\"}],\"barpolar\":[{\"marker\":{\"line\":{\"color\":\"#E5ECF6\",\"width\":0.5},\"pattern\":{\"fillmode\":\"overlay\",\"size\":10,\"solidity\":0.2}},\"type\":\"barpolar\"}],\"pie\":[{\"automargin\":true,\"type\":\"pie\"}]},\"layout\":{\"autotypenumbers\":\"strict\",\"colorway\":[\"#636efa\",\"#EF553B\",\"#00cc96\",\"#ab63fa\",\"#FFA15A\",\"#19d3f3\",\"#FF6692\",\"#B6E880\",\"#FF97FF\",\"#FECB52\"],\"font\":{\"color\":\"#2a3f5f\"},\"hovermode\":\"closest\",\"hoverlabel\":{\"align\":\"left\"},\"paper_bgcolor\":\"white\",\"plot_bgcolor\":\"#E5ECF6\",\"polar\":{\"bgcolor\":\"#E5ECF6\",\"angularaxis\":{\"gridcolor\":\"white\",\"linecolor\":\"white\",\"ticks\":\"\"},\"radialaxis\":{\"gridcolor\":\"white\",\"linecolor\":\"white\",\"ticks\":\"\"}},\"ternary\":{\"bgcolor\":\"#E5ECF6\",\"aaxis\":{\"gridcolor\":\"white\",\"linecolor\":\"white\",\"ticks\":\"\"},\"baxis\":{\"gridcolor\":\"white\",\"linecolor\":\"white\",\"ticks\":\"\"},\"caxis\":{\"gridcolor\":\"white\",\"linecolor\":\"white\",\"ticks\":\"\"}},\"coloraxis\":{\"colorbar\":{\"outlinewidth\":0,\"ticks\":\"\"}},\"colorscale\":{\"sequential\":[[0.0,\"#0d0887\"],[0.1111111111111111,\"#46039f\"],[0.2222222222222222,\"#7201a8\"],[0.3333333333333333,\"#9c179e\"],[0.4444444444444444,\"#bd3786\"],[0.5555555555555556,\"#d8576b\"],[0.6666666666666666,\"#ed7953\"],[0.7777777777777778,\"#fb9f3a\"],[0.8888888888888888,\"#fdca26\"],[1.0,\"#f0f921\"]],\"sequentialminus\":[[0.0,\"#0d0887\"],[0.1111111111111111,\"#46039f\"],[0.2222222222222222,\"#7201a8\"],[0.3333333333333333,\"#9c179e\"],[0.4444444444444444,\"#bd3786\"],[0.5555555555555556,\"#d8576b\"],[0.6666666666666666,\"#ed7953\"],[0.7777777777777778,\"#fb9f3a\"],[0.8888888888888888,\"#fdca26\"],[1.0,\"#f0f921\"]],\"diverging\":[[0,\"#8e0152\"],[0.1,\"#c51b7d\"],[0.2,\"#de77ae\"],[0.3,\"#f1b6da\"],[0.4,\"#fde0ef\"],[0.5,\"#f7f7f7\"],[0.6,\"#e6f5d0\"],[0.7,\"#b8e186\"],[0.8,\"#7fbc41\"],[0.9,\"#4d9221\"],[1,\"#276419\"]]},\"xaxis\":{\"gridcolor\":\"white\",\"linecolor\":\"white\",\"ticks\":\"\",\"title\":{\"standoff\":15},\"zerolinecolor\":\"white\",\"automargin\":true,\"zerolinewidth\":2},\"yaxis\":{\"gridcolor\":\"white\",\"linecolor\":\"white\",\"ticks\":\"\",\"title\":{\"standoff\":15},\"zerolinecolor\":\"white\",\"automargin\":true,\"zerolinewidth\":2},\"scene\":{\"xaxis\":{\"backgroundcolor\":\"#E5ECF6\",\"gridcolor\":\"white\",\"linecolor\":\"white\",\"showbackground\":true,\"ticks\":\"\",\"zerolinecolor\":\"white\",\"gridwidth\":2},\"yaxis\":{\"backgroundcolor\":\"#E5ECF6\",\"gridcolor\":\"white\",\"linecolor\":\"white\",\"showbackground\":true,\"ticks\":\"\",\"zerolinecolor\":\"white\",\"gridwidth\":2},\"zaxis\":{\"backgroundcolor\":\"#E5ECF6\",\"gridcolor\":\"white\",\"linecolor\":\"white\",\"showbackground\":true,\"ticks\":\"\",\"zerolinecolor\":\"white\",\"gridwidth\":2}},\"shapedefaults\":{\"line\":{\"color\":\"#2a3f5f\"}},\"annotationdefaults\":{\"arrowcolor\":\"#2a3f5f\",\"arrowhead\":0,\"arrowwidth\":1},\"geo\":{\"bgcolor\":\"white\",\"landcolor\":\"#E5ECF6\",\"subunitcolor\":\"white\",\"showland\":true,\"showlakes\":true,\"lakecolor\":\"white\"},\"title\":{\"x\":0.05},\"mapbox\":{\"style\":\"light\"}}},\"scene\":{\"domain\":{\"x\":[0.0,1.0],\"y\":[0.0,1.0]},\"xaxis\":{\"title\":{\"text\":\"x\"}},\"yaxis\":{\"title\":{\"text\":\"y\"}},\"zaxis\":{\"title\":{\"text\":\"z\"}}},\"legend\":{\"tracegroupgap\":0},\"margin\":{\"t\":60}},                        {\"responsive\": true}                    ).then(function(){\n",
              "                            \n",
              "var gd = document.getElementById('46d4cce0-94c2-48c9-838a-93cf2367b127');\n",
              "var x = new MutationObserver(function (mutations, observer) {{\n",
              "        var display = window.getComputedStyle(gd).display;\n",
              "        if (!display || display === 'none') {{\n",
              "            console.log([gd, 'removed!']);\n",
              "            Plotly.purge(gd);\n",
              "            observer.disconnect();\n",
              "        }}\n",
              "}});\n",
              "\n",
              "// Listen for the removal of the full notebook cells\n",
              "var notebookContainer = gd.closest('#notebook-container');\n",
              "if (notebookContainer) {{\n",
              "    x.observe(notebookContainer, {childList: true});\n",
              "}}\n",
              "\n",
              "// Listen for the clearing of the current output cell\n",
              "var outputEl = gd.closest('.output');\n",
              "if (outputEl) {{\n",
              "    x.observe(outputEl, {childList: true});\n",
              "}}\n",
              "\n",
              "                        })                };                            </script>        </div>\n",
              "</body>\n",
              "</html>"
            ]
          },
          "metadata": {}
        }
      ]
    },
    {
      "cell_type": "markdown",
      "source": [
        "El modelo Word2Vec entrenado con las letras de Michael Jackson capturó relaciones semánticas, como la fuerte conexión entre \"billie\" y \"jean\" (\"Billie Jean\") y entre \"bad\" y \"shameone\" (\"Bad\"). La palabra \"beat\" mostró relaciones menos claras con la canción \"Beat It\", posiblemente por su uso en otros contextos. Palabras como \"siedah\", \"refrain\", \"uuh\", \"pitbull\" y \"cheater\" tuvieron baja similitud con los términos analizados, indicando su infrequentemente en el corpus. Las visualizaciones en 2D/3D ayudan a entender estas relaciones espaciales entre palabras. En resumen, se demostró la utilidad de Gensim para analizar relaciones semánticas en texto."
      ],
      "metadata": {
        "id": "ZsAdlYOoVO33"
      },
      "id": "ZsAdlYOoVO33"
    }
  ],
  "metadata": {
    "language_info": {
      "name": "python"
    },
    "colab": {
      "provenance": []
    },
    "kernelspec": {
      "name": "python3",
      "display_name": "Python 3"
    }
  },
  "nbformat": 4,
  "nbformat_minor": 5
}