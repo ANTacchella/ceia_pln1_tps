{
 "cells": [
  {
   "cell_type": "markdown",
   "id": "90b49889",
   "metadata": {},
   "source": [
    "### TP3"
   ]
  }
 ],
 "metadata": {
  "language_info": {
   "name": "python"
  }
 },
 "nbformat": 4,
 "nbformat_minor": 5
}
