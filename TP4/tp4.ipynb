{
 "cells": [
  {
   "cell_type": "markdown",
   "id": "f5a9c361",
   "metadata": {},
   "source": [
    "TP4"
   ]
  }
 ],
 "metadata": {
  "language_info": {
   "name": "python"
  }
 },
 "nbformat": 4,
 "nbformat_minor": 5
}
