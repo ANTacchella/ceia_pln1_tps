{
  "cells": [
    {
      "cell_type": "markdown",
      "id": "f5a9c361",
      "metadata": {
        "id": "f5a9c361"
      },
      "source": [
        "# Desafío 4"
      ]
    },
    {
      "cell_type": "code",
      "source": [
        "!pip install --upgrade --no-cache-dir gdown torchinfo --quiet"
      ],
      "metadata": {
        "id": "FGmtK8J19PNk"
      },
      "execution_count": 1,
      "outputs": [],
      "id": "FGmtK8J19PNk"
    },
    {
      "cell_type": "code",
      "metadata": {
        "id": "cq3YXak9sGHd"
      },
      "source": [
        "import re\n",
        "\n",
        "import numpy as np\n",
        "import pandas as pd\n",
        "import matplotlib.pyplot as plt\n",
        "import seaborn as sns\n",
        "\n",
        "import torch\n",
        "import torch.nn.functional as F\n",
        "import torch.nn as nn\n",
        "from torch.utils.data import Dataset, DataLoader\n",
        "# torchsummar actualmente tiene un problema con las LSTM, por eso\n",
        "# se utiliza torchinfo, un fork del proyecto original con el bug solucionado\n",
        "from torchinfo import summary"
      ],
      "execution_count": 2,
      "outputs": [],
      "id": "cq3YXak9sGHd"
    },
    {
      "cell_type": "code",
      "source": [
        "cuda = torch.cuda.is_available()\n",
        "device = torch.device('cuda' if torch.cuda.is_available() else 'cpu')\n",
        "device"
      ],
      "metadata": {
        "colab": {
          "base_uri": "https://localhost:8080/"
        },
        "id": "vgYatMIdk_eT",
        "outputId": "6d6fa696-cbd8-43cc-b87c-5865b2dbce73"
      },
      "execution_count": 3,
      "outputs": [
        {
          "output_type": "execute_result",
          "data": {
            "text/plain": [
              "device(type='cuda')"
            ]
          },
          "metadata": {},
          "execution_count": 3
        }
      ],
      "id": "vgYatMIdk_eT"
    },
    {
      "cell_type": "code",
      "source": [
        "import os\n",
        "import platform\n",
        "\n",
        "if os.access('torch_helpers.py', os.F_OK) is False:\n",
        "    if platform.system() == 'Windows':\n",
        "        !curl !wget https://raw.githubusercontent.com/FIUBA-Posgrado-Inteligencia-Artificial/procesamiento_lenguaje_natural/main/scripts/torch_helpers.py > torch_helpers.py\n",
        "    else:\n",
        "        !wget torch_helpers.py https://raw.githubusercontent.com/FIUBA-Posgrado-Inteligencia-Artificial/procesamiento_lenguaje_natural/main/scripts/torch_helpers.py"
      ],
      "metadata": {
        "id": "GHFPS5KNxgR9"
      },
      "execution_count": 4,
      "outputs": [],
      "id": "GHFPS5KNxgR9"
    },
    {
      "cell_type": "code",
      "source": [
        "def sequence_acc(y_pred, y_test):\n",
        "    y_pred_tag = y_pred.data.max(dim=-1,keepdim=True)[1]\n",
        "    y_test_tag = y_test.data.max(dim=-1,keepdim=True)[1]\n",
        "\n",
        "    batch_size = y_pred_tag.shape[0]\n",
        "    batch_acc = torch.zeros(batch_size)\n",
        "    for b in range(batch_size):\n",
        "        correct_results_sum = (y_pred_tag[b] == y_test_tag[b]).sum().float()\n",
        "        batch_acc[b] = correct_results_sum / y_pred_tag[b].shape[0]\n",
        "\n",
        "    correct_results_sum = batch_acc.sum().float()\n",
        "    acc = correct_results_sum / batch_size\n",
        "    return acc\n",
        "\n",
        "def train(model, train_loader, valid_loader, optimizer, criterion, epochs=100):\n",
        "    # Defino listas para realizar graficas de los resultados\n",
        "    train_loss = []\n",
        "    train_accuracy = []\n",
        "    valid_loss = []\n",
        "    valid_accuracy = []\n",
        "\n",
        "    # Defino mi loop de entrenamiento\n",
        "\n",
        "    for epoch in range(epochs):\n",
        "\n",
        "        epoch_train_loss = 0.0\n",
        "        epoch_train_accuracy = 0.0\n",
        "\n",
        "        for train_encoder_input, train_decoder_input, train_target in train_loader:\n",
        "            # Seteo los gradientes en cero ya que, por defecto, PyTorch\n",
        "            # los va acumulando\n",
        "            optimizer.zero_grad()\n",
        "\n",
        "            output = model(train_encoder_input.to(device), train_decoder_input.to(device))\n",
        "\n",
        "            # Computo el error de la salida comparando contra las etiquetas\n",
        "            # por cada token en cada batch (sequence_loss)\n",
        "            loss = 0\n",
        "            for t in range(train_decoder_input.shape[1]):\n",
        "                loss += criterion(output[:, t, :], train_target[:, t, :])\n",
        "\n",
        "            # Almaceno el error del batch para luego tener el error promedio de la epoca\n",
        "            epoch_train_loss += loss.item()\n",
        "\n",
        "            # Computo el nuevo set de gradientes a lo largo de toda la red\n",
        "            loss.backward()\n",
        "\n",
        "            # Realizo el paso de optimizacion actualizando los parametros de toda la red\n",
        "            optimizer.step()\n",
        "\n",
        "            # Calculo el accuracy del batch\n",
        "            accuracy = sequence_acc(output, train_target)\n",
        "            # Almaceno el accuracy del batch para luego tener el accuracy promedio de la epoca\n",
        "            epoch_train_accuracy += accuracy.item()\n",
        "\n",
        "        # Calculo la media de error para la epoca de entrenamiento.\n",
        "        # La longitud de train_loader es igual a la cantidad de batches dentro de una epoca.\n",
        "        epoch_train_loss = epoch_train_loss / len(train_loader)\n",
        "        train_loss.append(epoch_train_loss)\n",
        "        epoch_train_accuracy = epoch_train_accuracy / len(train_loader)\n",
        "        train_accuracy.append(epoch_train_accuracy)\n",
        "\n",
        "        # Realizo el paso de validación computando error y accuracy, y\n",
        "        # almacenando los valores para imprimirlos y graficarlos\n",
        "        valid_encoder_input, valid_decoder_input, valid_target = next(iter(valid_loader))\n",
        "        output = model(valid_encoder_input.to(device), valid_decoder_input.to(device))\n",
        "\n",
        "        epoch_valid_loss = 0\n",
        "        for t in range(train_decoder_input.shape[1]):\n",
        "                epoch_valid_loss += criterion(output[:, t, :], valid_target[:, t, :])\n",
        "        epoch_valid_loss = epoch_valid_loss.item()\n",
        "\n",
        "        valid_loss.append(epoch_valid_loss)\n",
        "\n",
        "        # Calculo el accuracy de la epoch\n",
        "        epoch_valid_accuracy = sequence_acc(output, valid_target).item()\n",
        "        valid_accuracy.append(epoch_valid_accuracy)\n",
        "\n",
        "        print(f\"Epoch: {epoch+1}/{epochs} - Train loss {epoch_train_loss:.3f} - Train accuracy {epoch_train_accuracy:.3f} - Valid Loss {epoch_valid_loss:.3f} - Valid accuracy {epoch_valid_accuracy:.3f}\")\n",
        "\n",
        "    history = {\n",
        "        \"loss\": train_loss,\n",
        "        \"accuracy\": train_accuracy,\n",
        "        \"val_loss\": valid_loss,\n",
        "        \"val_accuracy\": valid_accuracy,\n",
        "    }\n",
        "    return history"
      ],
      "metadata": {
        "id": "tP-fbmHUgbtp"
      },
      "execution_count": 5,
      "outputs": [],
      "id": "tP-fbmHUgbtp"
    },
    {
      "cell_type": "markdown",
      "source": [
        "### 1 - Datos"
      ],
      "metadata": {
        "id": "5BFiCH8nxoIY"
      },
      "id": "5BFiCH8nxoIY"
    },
    {
      "cell_type": "code",
      "metadata": {
        "id": "RHNkUaPp6aYq",
        "colab": {
          "base_uri": "https://localhost:8080/"
        },
        "outputId": "99184e49-34d6-423b-dbd3-5eed49b50c91"
      },
      "source": [
        "# Descargar la carpeta de dataset\n",
        "import os\n",
        "import gdown\n",
        "if os.access('spa-eng', os.F_OK) is False:\n",
        "    if os.access('simpsons_dataset.zip', os.F_OK) is False:\n",
        "        url = 'http://storage.googleapis.com/download.tensorflow.org/data/spa-eng.zip'\n",
        "        output = 'spa-eng.zip'\n",
        "        gdown.download(url, output, quiet=False)\n",
        "    !unzip -q spa-eng.zip\n",
        "else:\n",
        "    print(\"El dataset ya se encuentra descargado\")"
      ],
      "execution_count": 6,
      "outputs": [
        {
          "output_type": "stream",
          "name": "stdout",
          "text": [
            "El dataset ya se encuentra descargado\n"
          ]
        }
      ],
      "id": "RHNkUaPp6aYq"
    },
    {
      "cell_type": "code",
      "metadata": {
        "id": "-9aNLZBDtA5J",
        "colab": {
          "base_uri": "https://localhost:8080/"
        },
        "outputId": "b28cd8f8-440a-4150-90be-96ae3b68f72c"
      },
      "source": [
        "# dataset_file\n",
        "\n",
        "text_file = \"./spa-eng/spa.txt\"\n",
        "with open(text_file) as f:\n",
        "    lines = f.read().split(\"\\n\")[:-1]\n",
        "\n",
        "# Por limitaciones de RAM no se leen todas las filas\n",
        "MAX_NUM_SENTENCES = 7000\n",
        "\n",
        "# Mezclar el dataset, forzar semilla siempre igual\n",
        "np.random.seed([40])\n",
        "np.random.shuffle(lines)\n",
        "\n",
        "input_sentences = []\n",
        "output_sentences = []\n",
        "output_sentences_inputs = []\n",
        "count = 0\n",
        "\n",
        "for line in lines:\n",
        "    count += 1\n",
        "    if count > MAX_NUM_SENTENCES:\n",
        "        break\n",
        "\n",
        "    if '\\t' not in line:\n",
        "        continue\n",
        "\n",
        "    # Input sentence --> eng\n",
        "    # output --> spa\n",
        "    input_sentence, output = line.rstrip().split('\\t')\n",
        "\n",
        "    # output sentence (decoder_output) tiene <eos>\n",
        "    output_sentence = output + ' <eos>'\n",
        "    # output sentence input (decoder_input) tiene <sos>\n",
        "    output_sentence_input = '<sos> ' + output\n",
        "\n",
        "    input_sentences.append(input_sentence)\n",
        "    output_sentences.append(output_sentence)\n",
        "    output_sentences_inputs.append(output_sentence_input)\n",
        "\n",
        "print(\"Cantidad de rows disponibles:\", len(lines))\n",
        "print(\"Cantidad de rows utilizadas:\", len(input_sentences))"
      ],
      "execution_count": 7,
      "outputs": [
        {
          "output_type": "stream",
          "name": "stdout",
          "text": [
            "Cantidad de rows disponibles: 118964\n",
            "Cantidad de rows utilizadas: 7000\n"
          ]
        }
      ],
      "id": "-9aNLZBDtA5J"
    },
    {
      "cell_type": "code",
      "metadata": {
        "id": "93IGMKFb73q7",
        "colab": {
          "base_uri": "https://localhost:8080/"
        },
        "outputId": "fb91fed2-c0ec-469b-c721-02afaa2da025"
      },
      "source": [
        "input_sentences[0], output_sentences[0], output_sentences_inputs[0]"
      ],
      "execution_count": 8,
      "outputs": [
        {
          "output_type": "execute_result",
          "data": {
            "text/plain": [
              "('A deal is a deal.',\n",
              " 'Un trato es un trato. <eos>',\n",
              " '<sos> Un trato es un trato.')"
            ]
          },
          "metadata": {},
          "execution_count": 8
        }
      ],
      "id": "93IGMKFb73q7"
    },
    {
      "cell_type": "markdown",
      "metadata": {
        "id": "8P-ynUNP5xp6"
      },
      "source": [
        "### 2 - Preprocesamiento"
      ],
      "id": "8P-ynUNP5xp6"
    },
    {
      "cell_type": "code",
      "metadata": {
        "id": "5WAZGOTfGyha"
      },
      "source": [
        "# Definir el tamaño máximo del vocabulario\n",
        "MAX_VOCAB_SIZE = 8000"
      ],
      "execution_count": 9,
      "outputs": [],
      "id": "5WAZGOTfGyha"
    },
    {
      "cell_type": "code",
      "metadata": {
        "id": "eF1W6peoFGXA",
        "colab": {
          "base_uri": "https://localhost:8080/"
        },
        "outputId": "5f282cdc-705b-423a-d9ac-6bd418a797d3"
      },
      "source": [
        "# Tokenizar las palabras con el Tokenizer de Keras\n",
        "# Definir una máxima cantidad de palabras a utilizar:\n",
        "# - num_words --> the maximum number of words to keep, based on word frequency.\n",
        "# - Only the most common num_words-1 words will be kept.\n",
        "from torch_helpers import Tokenizer\n",
        "input_tokenizer = Tokenizer(num_words=MAX_VOCAB_SIZE)\n",
        "input_tokenizer.fit_on_texts(input_sentences)\n",
        "input_integer_seq = input_tokenizer.texts_to_sequences(input_sentences)\n",
        "\n",
        "word2idx_inputs = input_tokenizer.word_index\n",
        "print(\"Palabras en el vocabulario:\", len(word2idx_inputs))\n",
        "\n",
        "max_input_len = max(len(sen) for sen in input_integer_seq)\n",
        "print(\"Sentencia de entrada más larga:\", max_input_len)"
      ],
      "execution_count": 10,
      "outputs": [
        {
          "output_type": "stream",
          "name": "stdout",
          "text": [
            "Palabras en el vocabulario: 4153\n",
            "Sentencia de entrada más larga: 32\n"
          ]
        }
      ],
      "id": "eF1W6peoFGXA"
    },
    {
      "cell_type": "code",
      "metadata": {
        "id": "zBzdKiTVIBYY",
        "colab": {
          "base_uri": "https://localhost:8080/"
        },
        "outputId": "8a95a9ae-89b4-4895-e2dd-2b443f80264b"
      },
      "source": [
        "# A los filtros de símbolos del Tokenizer agregamos el \"¿\",\n",
        "# sacamos los \"<>\" para que no afectar nuestros tokens\n",
        "output_tokenizer = Tokenizer(num_words=MAX_VOCAB_SIZE, filters='!\"#$%&()*+,-./:;=¿?@[\\\\]^_`{|}~\\t\\n')\n",
        "output_tokenizer.fit_on_texts([\"<sos>\", \"<eos>\"] + output_sentences)\n",
        "output_integer_seq = output_tokenizer.texts_to_sequences(output_sentences)\n",
        "output_input_integer_seq = output_tokenizer.texts_to_sequences(output_sentences_inputs)\n",
        "\n",
        "word2idx_outputs = output_tokenizer.word_index\n",
        "print(\"Palabras en el vocabulario:\", len(word2idx_outputs))\n",
        "\n",
        "num_words_output = min(len(word2idx_outputs) + 1, MAX_VOCAB_SIZE) # Se suma 1 por el primer <sos>\n",
        "max_out_len = max(len(sen) for sen in output_integer_seq)\n",
        "print(\"Sentencia de salida más larga:\", max_out_len)"
      ],
      "execution_count": 11,
      "outputs": [
        {
          "output_type": "stream",
          "name": "stdout",
          "text": [
            "Palabras en el vocabulario: 6246\n",
            "Sentencia de salida más larga: 36\n"
          ]
        }
      ],
      "id": "zBzdKiTVIBYY"
    },
    {
      "cell_type": "markdown",
      "metadata": {
        "id": "Xqb8ZJ4sJHgv"
      },
      "source": [
        "Como era de esperarse, las sentencias en castellano son más largas que en inglés, y lo mismo sucede con su vocabulario."
      ],
      "id": "Xqb8ZJ4sJHgv"
    },
    {
      "cell_type": "code",
      "metadata": {
        "id": "pgLC706EQx3p"
      },
      "source": [
        "# Por una cuestion de que no explote la RAM se limitará el tamaño de las sentencias de entrada\n",
        "# a la mitad:\n",
        "max_input_len = 20\n",
        "max_out_len = 22"
      ],
      "execution_count": 12,
      "outputs": [],
      "id": "pgLC706EQx3p"
    },
    {
      "cell_type": "markdown",
      "metadata": {
        "id": "hGOn9N57IuYz"
      },
      "source": [
        "A la hora de realiza padding es importante teneer en cuenta que en el encoder los ceros se agregan al comienoz y en el decoder al final. Esto es porque la salida del encoder está basado en las últimas palabras de la sentencia (son las más importantes), mientras que en el decoder está basado en el comienzo de la secuencia de salida ya que es la realimentación del sistema y termina con fin de sentencia."
      ],
      "id": "hGOn9N57IuYz"
    },
    {
      "cell_type": "code",
      "metadata": {
        "id": "q0Ob4hAWJkcv",
        "colab": {
          "base_uri": "https://localhost:8080/"
        },
        "outputId": "78bda749-2842-47c5-fc2b-12f8b61f0c53"
      },
      "source": [
        "from torch_helpers import pad_sequences\n",
        "print(\"Cantidad de rows del dataset:\", len(input_integer_seq))\n",
        "\n",
        "encoder_input_sequences = pad_sequences(input_integer_seq, maxlen=max_input_len)\n",
        "print(\"encoder_input_sequences shape:\", encoder_input_sequences.shape)\n",
        "\n",
        "decoder_input_sequences = pad_sequences(output_input_integer_seq, maxlen=max_out_len, padding='post')\n",
        "print(\"decoder_input_sequences shape:\", decoder_input_sequences.shape)"
      ],
      "execution_count": 13,
      "outputs": [
        {
          "output_type": "stream",
          "name": "stdout",
          "text": [
            "Cantidad de rows del dataset: 7000\n",
            "encoder_input_sequences shape: (7000, 20)\n",
            "decoder_input_sequences shape: (7000, 22)\n"
          ]
        }
      ],
      "id": "q0Ob4hAWJkcv"
    },
    {
      "cell_type": "code",
      "source": [
        "decoder_output_sequences = pad_sequences(output_integer_seq, maxlen=max_out_len, padding='post')\n",
        "print(\"decoder_output_sequences shape:\", decoder_output_sequences.shape)"
      ],
      "metadata": {
        "colab": {
          "base_uri": "https://localhost:8080/"
        },
        "id": "3VySR1pzx9UG",
        "outputId": "2a8f6338-de82-40f2-a1fd-f57884a5e05f"
      },
      "execution_count": 14,
      "outputs": [
        {
          "output_type": "stream",
          "name": "stdout",
          "text": [
            "decoder_output_sequences shape: (7000, 22)\n"
          ]
        }
      ],
      "id": "3VySR1pzx9UG"
    },
    {
      "cell_type": "markdown",
      "metadata": {
        "id": "wK4blEEsRQv3"
      },
      "source": [
        "La última capa del modelo (softmax) necesita que los valores de salida\n",
        "del decoder (decoder_sequences) estén en formato oneHotEncoder.\\\n",
        "Se utiliza \"decoder_output_sequences\" con la misma estrategía que se transformó la entrada del decoder."
      ],
      "id": "wK4blEEsRQv3"
    },
    {
      "cell_type": "code",
      "source": [
        "torch.from_numpy(decoder_output_sequences).shape"
      ],
      "metadata": {
        "colab": {
          "base_uri": "https://localhost:8080/"
        },
        "id": "ANTOqJ0WWw-q",
        "outputId": "b2db5011-49ba-4aa5-88c9-c228262e8a57"
      },
      "execution_count": 15,
      "outputs": [
        {
          "output_type": "execute_result",
          "data": {
            "text/plain": [
              "torch.Size([7000, 22])"
            ]
          },
          "metadata": {},
          "execution_count": 15
        }
      ],
      "id": "ANTOqJ0WWw-q"
    },
    {
      "cell_type": "code",
      "source": [
        "class Data(Dataset):\n",
        "    def __init__(self, encoder_input, decoder_input, decoder_output):\n",
        "        # Convertir los arrays de numpy a tensores.\n",
        "        # pytorch espera en general entradas 32bits\n",
        "        self.encoder_inputs = torch.from_numpy(encoder_input.astype(np.int32))\n",
        "        self.decoder_inputs = torch.from_numpy(decoder_input.astype(np.int32))\n",
        "        # Transformar los datos a oneHotEncoding\n",
        "        # la loss function esperan la salida float\n",
        "        self.decoder_outputs = F.one_hot(torch.from_numpy(decoder_output).to(torch.int64), num_classes=num_words_output).float()\n",
        "\n",
        "        self.len = self.decoder_outputs.shape[0]\n",
        "\n",
        "    def __getitem__(self,index):\n",
        "        return self.encoder_inputs[index], self.decoder_inputs[index], self.decoder_outputs[index]\n",
        "\n",
        "    def __len__(self):\n",
        "        return self.len\n",
        "\n",
        "data_set = Data(encoder_input_sequences, decoder_input_sequences, decoder_output_sequences)\n",
        "\n",
        "encoder_input_size = data_set.encoder_inputs.shape[1]\n",
        "print(\"encoder_input_size:\", encoder_input_size)\n",
        "\n",
        "decoder_input_size = data_set.decoder_inputs.shape[1]\n",
        "print(\"decoder_input_size:\", decoder_input_size)\n",
        "\n",
        "output_dim = data_set.decoder_outputs.shape[2]\n",
        "print(\"Output dim\", output_dim)"
      ],
      "metadata": {
        "colab": {
          "base_uri": "https://localhost:8080/"
        },
        "id": "SD0bpM32yWfB",
        "outputId": "ee6e8eca-a93a-4b23-c21b-29d42872b656"
      },
      "execution_count": 16,
      "outputs": [
        {
          "output_type": "stream",
          "name": "stdout",
          "text": [
            "encoder_input_size: 20\n",
            "decoder_input_size: 22\n",
            "Output dim 6247\n"
          ]
        }
      ],
      "id": "SD0bpM32yWfB"
    },
    {
      "cell_type": "code",
      "source": [
        "torch.manual_seed(42)\n",
        "valid_set_size = int(data_set.len * 0.2)\n",
        "train_set_size = data_set.len - valid_set_size\n",
        "\n",
        "train_set = torch.utils.data.Subset(data_set, range(train_set_size))\n",
        "valid_set = torch.utils.data.Subset(data_set, range(train_set_size, data_set.len))\n",
        "\n",
        "print(\"Tamaño del conjunto de entrenamiento:\", len(train_set))\n",
        "print(\"Tamaño del conjunto de validacion:\", len(valid_set))\n",
        "\n",
        "train_loader = torch.utils.data.DataLoader(train_set, batch_size=32, shuffle=True)\n",
        "valid_loader = torch.utils.data.DataLoader(valid_set, batch_size=32, shuffle=False)"
      ],
      "metadata": {
        "colab": {
          "base_uri": "https://localhost:8080/"
        },
        "id": "sUDPZeuAU1RI",
        "outputId": "730629ce-2996-47c3-f747-95ddd1874192"
      },
      "execution_count": 17,
      "outputs": [
        {
          "output_type": "stream",
          "name": "stdout",
          "text": [
            "Tamaño del conjunto de entrenamiento: 5600\n",
            "Tamaño del conjunto de validacion: 1400\n"
          ]
        }
      ],
      "id": "sUDPZeuAU1RI"
    },
    {
      "cell_type": "markdown",
      "metadata": {
        "id": "_CJIsLBbj6rg"
      },
      "source": [
        "### 3 - Preparar los embeddings"
      ],
      "id": "_CJIsLBbj6rg"
    },
    {
      "cell_type": "code",
      "metadata": {
        "id": "9OcT-DLzkHS8",
        "colab": {
          "base_uri": "https://localhost:8080/"
        },
        "outputId": "b2e0fa5a-aea3-456b-fdb7-f590333be061"
      },
      "source": [
        "# Descargar los embeddings desde un gogle drive (es la forma más rápida)\n",
        "# NOTA: No hay garantía de que estos links perduren, en caso de que no estén\n",
        "# disponibles descargar de la página oficial como se explica en el siguiente bloque\n",
        "import os\n",
        "import gdown\n",
        "if os.access('gloveembedding.pkl', os.F_OK) is False:\n",
        "    url = 'https://drive.google.com/uc?id=1wlDBOrxPq2-3htQ6ryVo7K1XnzLcfh4r&export=download'\n",
        "    output = 'gloveembedding.pkl'\n",
        "    gdown.download(url, output, quiet=False)\n",
        "else:\n",
        "    print(\"Los embeddings gloveembedding.pkl ya están descargados\")"
      ],
      "execution_count": 18,
      "outputs": [
        {
          "output_type": "stream",
          "name": "stdout",
          "text": [
            "Los embeddings gloveembedding.pkl ya están descargados\n"
          ]
        }
      ],
      "id": "9OcT-DLzkHS8"
    },
    {
      "cell_type": "code",
      "metadata": {
        "id": "ZgqtV8GpkSc8"
      },
      "source": [
        "import logging\n",
        "import os\n",
        "from pathlib import Path\n",
        "from io import StringIO\n",
        "import pickle\n",
        "\n",
        "class WordsEmbeddings(object):\n",
        "    logger = logging.getLogger(__name__)\n",
        "\n",
        "    def __init__(self):\n",
        "        # load the embeddings\n",
        "        words_embedding_pkl = Path(self.PKL_PATH)\n",
        "        if not words_embedding_pkl.is_file():\n",
        "            words_embedding_txt = Path(self.WORD_TO_VEC_MODEL_TXT_PATH)\n",
        "            assert words_embedding_txt.is_file(), 'Words embedding not available'\n",
        "            embeddings = self.convert_model_to_pickle()\n",
        "        else:\n",
        "            embeddings = self.load_model_from_pickle()\n",
        "        self.embeddings = embeddings\n",
        "        # build the vocabulary hashmap\n",
        "        index = np.arange(self.embeddings.shape[0])\n",
        "        # Dicctionarios para traducir de embedding a IDX de la palabra\n",
        "        self.word2idx = dict(zip(self.embeddings['word'], index))\n",
        "        self.idx2word = dict(zip(index, self.embeddings['word']))\n",
        "\n",
        "    def get_words_embeddings(self, words):\n",
        "        words_idxs = self.words2idxs(words)\n",
        "        return self.embeddings[words_idxs]['embedding']\n",
        "\n",
        "    def words2idxs(self, words):\n",
        "        return np.array([self.word2idx.get(word, -1) for word in words])\n",
        "\n",
        "    def idxs2words(self, idxs):\n",
        "        return np.array([self.idx2word.get(idx, '-1') for idx in idxs])\n",
        "\n",
        "    def load_model_from_pickle(self):\n",
        "        self.logger.debug(\n",
        "            'loading words embeddings from pickle {}'.format(\n",
        "                self.PKL_PATH\n",
        "            )\n",
        "        )\n",
        "        max_bytes = 2**28 - 1 # 256MB\n",
        "        bytes_in = bytearray(0)\n",
        "        input_size = os.path.getsize(self.PKL_PATH)\n",
        "        with open(self.PKL_PATH, 'rb') as f_in:\n",
        "            for _ in range(0, input_size, max_bytes):\n",
        "                bytes_in += f_in.read(max_bytes)\n",
        "        embeddings = pickle.loads(bytes_in)\n",
        "        self.logger.debug('words embeddings loaded')\n",
        "        return embeddings\n",
        "\n",
        "    def convert_model_to_pickle(self):\n",
        "        # create a numpy strctured array:\n",
        "        # word     embedding\n",
        "        # U50      np.float32[]\n",
        "        # word_1   a, b, c\n",
        "        # word_2   d, e, f\n",
        "        # ...\n",
        "        # word_n   g, h, i\n",
        "        self.logger.debug(\n",
        "            'converting and loading words embeddings from text file {}'.format(\n",
        "                self.WORD_TO_VEC_MODEL_TXT_PATH\n",
        "            )\n",
        "        )\n",
        "        structure = [('word', np.dtype('U' + str(self.WORD_MAX_SIZE))),\n",
        "                     ('embedding', np.float32, (self.N_FEATURES,))]\n",
        "        structure = np.dtype(structure)\n",
        "        # load numpy array from disk using a generator\n",
        "        with open(self.WORD_TO_VEC_MODEL_TXT_PATH, encoding=\"utf8\") as words_embeddings_txt:\n",
        "            embeddings_gen = (\n",
        "                (line.split()[0], line.split()[1:]) for line in words_embeddings_txt\n",
        "                if len(line.split()[1:]) == self.N_FEATURES\n",
        "            )\n",
        "            embeddings = np.fromiter(embeddings_gen, structure)\n",
        "        # add a null embedding\n",
        "        null_embedding = np.array(\n",
        "            [('null_embedding', np.zeros((self.N_FEATURES,), dtype=np.float32))],\n",
        "            dtype=structure\n",
        "        )\n",
        "        embeddings = np.concatenate([embeddings, null_embedding])\n",
        "        # dump numpy array to disk using pickle\n",
        "        max_bytes = 2**28 - 1 # # 256MB\n",
        "        bytes_out = pickle.dumps(embeddings, protocol=pickle.HIGHEST_PROTOCOL)\n",
        "        with open(self.PKL_PATH, 'wb') as f_out:\n",
        "            for idx in range(0, len(bytes_out), max_bytes):\n",
        "                f_out.write(bytes_out[idx:idx+max_bytes])\n",
        "        self.logger.debug('words embeddings loaded')\n",
        "        return embeddings\n",
        "\n",
        "\n",
        "class GloveEmbeddings(WordsEmbeddings):\n",
        "    WORD_TO_VEC_MODEL_TXT_PATH = 'glove.twitter.27B.50d.txt'\n",
        "    PKL_PATH = 'gloveembedding.pkl'\n",
        "    N_FEATURES = 50\n",
        "    WORD_MAX_SIZE = 60\n",
        "\n",
        "class FasttextEmbeddings(WordsEmbeddings):\n",
        "    WORD_TO_VEC_MODEL_TXT_PATH = 'cc.en.300.vec'\n",
        "    PKL_PATH = 'fasttext.pkl'\n",
        "    N_FEATURES = 300\n",
        "    WORD_MAX_SIZE = 60"
      ],
      "execution_count": 19,
      "outputs": [],
      "id": "ZgqtV8GpkSc8"
    },
    {
      "cell_type": "code",
      "metadata": {
        "id": "Mosj2-x-kXBK"
      },
      "source": [
        "# Por una cuestion de RAM se utilizará los embeddings de Glove de dimension 50\n",
        "model_embeddings = GloveEmbeddings()"
      ],
      "execution_count": 20,
      "outputs": [],
      "id": "Mosj2-x-kXBK"
    },
    {
      "cell_type": "code",
      "metadata": {
        "id": "b9FS8ca1ke_B",
        "colab": {
          "base_uri": "https://localhost:8080/"
        },
        "outputId": "3f15bf16-a4fb-4a8a-f19b-d9892a57d883"
      },
      "source": [
        "# Crear la Embedding matrix de las secuencias\n",
        "# en ingles\n",
        "\n",
        "print('preparing embedding matrix...')\n",
        "embed_dim = model_embeddings.N_FEATURES\n",
        "words_not_found = []\n",
        "\n",
        "# word_index provieen del tokenizer\n",
        "\n",
        "nb_words = min(MAX_VOCAB_SIZE, len(word2idx_inputs)) # vocab_size\n",
        "embedding_matrix = np.zeros((nb_words, embed_dim))\n",
        "for word, i in word2idx_inputs.items():\n",
        "    if i >= nb_words:\n",
        "        continue\n",
        "    embedding_vector = model_embeddings.get_words_embeddings(word)[0]\n",
        "    if (embedding_vector is not None) and len(embedding_vector) > 0:\n",
        "\n",
        "        embedding_matrix[i] = embedding_vector\n",
        "    else:\n",
        "        # words not found in embedding index will be all-zeros.\n",
        "        words_not_found.append(word)\n",
        "\n",
        "print('number of null word embeddings:', np.sum(np.sum(embedding_matrix, axis=1) == 0))"
      ],
      "execution_count": 21,
      "outputs": [
        {
          "output_type": "stream",
          "name": "stdout",
          "text": [
            "preparing embedding matrix...\n",
            "number of null word embeddings: 38\n"
          ]
        }
      ],
      "id": "b9FS8ca1ke_B"
    },
    {
      "cell_type": "code",
      "source": [
        "nb_words"
      ],
      "metadata": {
        "colab": {
          "base_uri": "https://localhost:8080/"
        },
        "id": "4q3U_WmEYRdH",
        "outputId": "8b02e97e-05ae-427d-c0b6-632af4cbfc11"
      },
      "execution_count": 22,
      "outputs": [
        {
          "output_type": "execute_result",
          "data": {
            "text/plain": [
              "4153"
            ]
          },
          "metadata": {},
          "execution_count": 22
        }
      ],
      "id": "4q3U_WmEYRdH"
    },
    {
      "cell_type": "code",
      "metadata": {
        "id": "FpzJODHBlAtE",
        "colab": {
          "base_uri": "https://localhost:8080/"
        },
        "outputId": "e2ef6742-a23c-49ee-a2bf-aa486f8e0ee4"
      },
      "source": [
        "# Dimensión de los embeddings de la secuencia en ingles\n",
        "embedding_matrix.shape"
      ],
      "execution_count": 23,
      "outputs": [
        {
          "output_type": "execute_result",
          "data": {
            "text/plain": [
              "(4153, 50)"
            ]
          },
          "metadata": {},
          "execution_count": 23
        }
      ],
      "id": "FpzJODHBlAtE"
    },
    {
      "cell_type": "markdown",
      "metadata": {
        "id": "3vKbhjtIwPgM"
      },
      "source": [
        "### 4 - Entrenar el modelo"
      ],
      "id": "3vKbhjtIwPgM"
    },
    {
      "cell_type": "code",
      "metadata": {
        "id": "3fm3HCLMPSG-"
      },
      "source": [
        "class Encoder(nn.Module):\n",
        "    def __init__(self, vocab_size, lstm_size, num_layers):\n",
        "        super().__init__()\n",
        "        # num_embeddings = vocab_size, definido por le Tokenizador\n",
        "        # embedding_dim = 50 --> dimensión de los embeddings utilizados\n",
        "        self.lstm_size = lstm_size\n",
        "        self.num_layers = num_layers\n",
        "        self.embedding_dim = embed_dim\n",
        "        self.embedding = nn.Embedding(num_embeddings=vocab_size, embedding_dim=self.embedding_dim, padding_idx=0)\n",
        "        self.embedding.weight.data.copy_(torch.from_numpy(embedding_matrix))\n",
        "        self.embedding.weight.requires_grad = False  # marcar como layer no entrenable (freeze)\n",
        "        self.lstm = nn.LSTM(input_size=self.embedding_dim, hidden_size=self.lstm_size, batch_first=True,\n",
        "                            num_layers=self.num_layers) # LSTM layer\n",
        "\n",
        "    def forward(self, x):\n",
        "        out = self.embedding(x)\n",
        "        lstm_output, (ht, ct) = self.lstm(out)\n",
        "        return (ht, ct)\n",
        "\n",
        "class Decoder(nn.Module):\n",
        "    def __init__(self, vocab_size, output_dim, lstm_size, num_layers):\n",
        "        super().__init__()\n",
        "        # num_embeddings = vocab_size, definido por le Tokenizador\n",
        "        # embedding_dim = 50 --> dimensión de los embeddings utilizados\n",
        "        self.lstm_size = lstm_size\n",
        "        self.num_layers = num_layers\n",
        "        self.embedding_dim = embed_dim\n",
        "        self.output_dim = output_dim\n",
        "\n",
        "        self.embedding = nn.Embedding(num_embeddings=vocab_size, embedding_dim=self.embedding_dim, padding_idx=0)\n",
        "        self.lstm = nn.LSTM(input_size=self.embedding_dim, hidden_size=self.lstm_size, batch_first=True,\n",
        "                            num_layers=self.num_layers) # LSTM layer\n",
        "        self.fc1 = nn.Linear(in_features=self.lstm_size, out_features=self.output_dim) # Fully connected layer\n",
        "\n",
        "    def forward(self, x, prev_state):\n",
        "        out = self.embedding(x)\n",
        "        lstm_output, (ht, ct) = self.lstm(out, prev_state)\n",
        "        out = self.fc1(lstm_output[:, -1, :]) # take last output (last seq)\n",
        "        return out, (ht, ct)\n",
        "\n",
        "class Seq2Seq(nn.Module):\n",
        "    def __init__(self, encoder, decoder):\n",
        "        super().__init__()\n",
        "\n",
        "        self.encoder = encoder\n",
        "        self.decoder = decoder\n",
        "\n",
        "        assert encoder.lstm_size == decoder.lstm_size, \\\n",
        "            \"Hidden dimensions of encoder and decoder must be equal!\"\n",
        "        assert encoder.num_layers == decoder.num_layers, \\\n",
        "            \"Encoder and decoder must have equal number of layers!\"\n",
        "\n",
        "    def forward(self, encoder_input, decoder_input):\n",
        "        batch_size = decoder_input.shape[0]\n",
        "        decoder_input_len = decoder_input.shape[1]\n",
        "        vocab_size = self.decoder.output_dim\n",
        "\n",
        "        # tensor para almacenar la salida\n",
        "        # (batch_size, sentence_len, one_hot_size)\n",
        "        outputs = torch.zeros(batch_size, decoder_input_len, vocab_size)\n",
        "\n",
        "        # ultimo hidden state del encoder, primer estado oculto del decoder\n",
        "        prev_state = self.encoder(encoder_input)\n",
        "\n",
        "        # En la primera iteracion se toma el primer token de target (<sos>)\n",
        "        input = decoder_input[:, 0:1]\n",
        "\n",
        "        for t in range(decoder_input_len):\n",
        "            # t --> token index\n",
        "\n",
        "            # utilizamos método \"teacher forcing\", es decir que durante\n",
        "            # el entrenamiento no realimentamos la salida del decoder\n",
        "            # sino el token correcto que sigue en target\n",
        "            input = decoder_input[:, t:t+1]\n",
        "\n",
        "            # ingresar cada token embedding, uno por uno junto al hidden state\n",
        "            # recibir el output del decoder (softmax)\n",
        "            output, prev_state = self.decoder(input, prev_state)\n",
        "            top1 = output.argmax(1).view(-1, 1)\n",
        "\n",
        "            # Sino se usará \"teacher forcing\" habría que descomentar\n",
        "            # esta linea.\n",
        "            # Hay ejemplos dandos vuelta en donde se utilza un random\n",
        "            # para ver en cada vuelta que técnica se aplica\n",
        "            #input = top1\n",
        "\n",
        "            # guardar cada salida (softmax)\n",
        "            outputs[:, t, :] = output\n",
        "\n",
        "        return outputs"
      ],
      "execution_count": 24,
      "outputs": [],
      "id": "3fm3HCLMPSG-"
    },
    {
      "cell_type": "markdown",
      "source": [
        "#### Modelo lstm_size=128 y num_layers=1"
      ],
      "metadata": {
        "id": "KC-8VZPiq2rC"
      },
      "id": "KC-8VZPiq2rC"
    },
    {
      "cell_type": "code",
      "source": [
        "encoder = Encoder(vocab_size=nb_words, lstm_size=128, num_layers=1)\n",
        "if cuda: encoder.cuda()\n",
        "# decoder --> vocab_size == output_dim --> porque recibe y devuelve palabras en el mismo vocabulario\n",
        "decoder = Decoder(vocab_size=num_words_output, output_dim=num_words_output, lstm_size=128, num_layers=1)\n",
        "if cuda: decoder.cuda()\n",
        "\n",
        "model = Seq2Seq(encoder, decoder)\n",
        "if cuda: model.cuda()\n",
        "\n",
        "# Crear el optimizador la una función de error\n",
        "optimizer = torch.optim.Adam(model.parameters(), lr=0.001)\n",
        "criterion = torch.nn.CrossEntropyLoss()  # Para clasificación multi categórica\n",
        "\n",
        "# Move input data to the device before passing it to summary\n",
        "sample_encoder_input, sample_decoder_input, _ = data_set[0:1]\n",
        "summary(model, input_data=(sample_encoder_input.to(device), sample_decoder_input.to(device)))"
      ],
      "metadata": {
        "colab": {
          "base_uri": "https://localhost:8080/"
        },
        "id": "c2jpgfzul9hS",
        "outputId": "d924a55b-ea0c-4f8e-cd8b-5c1e01e30c98"
      },
      "id": "c2jpgfzul9hS",
      "execution_count": 25,
      "outputs": [
        {
          "output_type": "execute_result",
          "data": {
            "text/plain": [
              "==========================================================================================\n",
              "Layer (type:depth-idx)                   Output Shape              Param #\n",
              "==========================================================================================\n",
              "Seq2Seq                                  [1, 22, 6247]             --\n",
              "├─Encoder: 1-1                           [1, 1, 128]               --\n",
              "│    └─Embedding: 2-1                    [1, 20, 50]               (207,650)\n",
              "│    └─LSTM: 2-2                         [1, 20, 128]              92,160\n",
              "├─Decoder: 1-2                           [1, 6247]                 --\n",
              "│    └─Embedding: 2-3                    [1, 1, 50]                312,350\n",
              "│    └─LSTM: 2-4                         [1, 1, 128]               92,160\n",
              "│    └─Linear: 2-5                       [1, 6247]                 805,863\n",
              "├─Decoder: 1-3                           [1, 6247]                 (recursive)\n",
              "│    └─Embedding: 2-6                    [1, 1, 50]                (recursive)\n",
              "│    └─LSTM: 2-7                         [1, 1, 128]               (recursive)\n",
              "│    └─Linear: 2-8                       [1, 6247]                 (recursive)\n",
              "├─Decoder: 1-4                           [1, 6247]                 (recursive)\n",
              "│    └─Embedding: 2-9                    [1, 1, 50]                (recursive)\n",
              "│    └─LSTM: 2-10                        [1, 1, 128]               (recursive)\n",
              "│    └─Linear: 2-11                      [1, 6247]                 (recursive)\n",
              "├─Decoder: 1-5                           [1, 6247]                 (recursive)\n",
              "│    └─Embedding: 2-12                   [1, 1, 50]                (recursive)\n",
              "│    └─LSTM: 2-13                        [1, 1, 128]               (recursive)\n",
              "│    └─Linear: 2-14                      [1, 6247]                 (recursive)\n",
              "├─Decoder: 1-6                           [1, 6247]                 (recursive)\n",
              "│    └─Embedding: 2-15                   [1, 1, 50]                (recursive)\n",
              "│    └─LSTM: 2-16                        [1, 1, 128]               (recursive)\n",
              "│    └─Linear: 2-17                      [1, 6247]                 (recursive)\n",
              "├─Decoder: 1-7                           [1, 6247]                 (recursive)\n",
              "│    └─Embedding: 2-18                   [1, 1, 50]                (recursive)\n",
              "│    └─LSTM: 2-19                        [1, 1, 128]               (recursive)\n",
              "│    └─Linear: 2-20                      [1, 6247]                 (recursive)\n",
              "├─Decoder: 1-8                           [1, 6247]                 (recursive)\n",
              "│    └─Embedding: 2-21                   [1, 1, 50]                (recursive)\n",
              "│    └─LSTM: 2-22                        [1, 1, 128]               (recursive)\n",
              "│    └─Linear: 2-23                      [1, 6247]                 (recursive)\n",
              "├─Decoder: 1-9                           [1, 6247]                 (recursive)\n",
              "│    └─Embedding: 2-24                   [1, 1, 50]                (recursive)\n",
              "│    └─LSTM: 2-25                        [1, 1, 128]               (recursive)\n",
              "│    └─Linear: 2-26                      [1, 6247]                 (recursive)\n",
              "├─Decoder: 1-10                          [1, 6247]                 (recursive)\n",
              "│    └─Embedding: 2-27                   [1, 1, 50]                (recursive)\n",
              "│    └─LSTM: 2-28                        [1, 1, 128]               (recursive)\n",
              "│    └─Linear: 2-29                      [1, 6247]                 (recursive)\n",
              "├─Decoder: 1-11                          [1, 6247]                 (recursive)\n",
              "│    └─Embedding: 2-30                   [1, 1, 50]                (recursive)\n",
              "│    └─LSTM: 2-31                        [1, 1, 128]               (recursive)\n",
              "│    └─Linear: 2-32                      [1, 6247]                 (recursive)\n",
              "├─Decoder: 1-12                          [1, 6247]                 (recursive)\n",
              "│    └─Embedding: 2-33                   [1, 1, 50]                (recursive)\n",
              "│    └─LSTM: 2-34                        [1, 1, 128]               (recursive)\n",
              "│    └─Linear: 2-35                      [1, 6247]                 (recursive)\n",
              "├─Decoder: 1-13                          [1, 6247]                 (recursive)\n",
              "│    └─Embedding: 2-36                   [1, 1, 50]                (recursive)\n",
              "│    └─LSTM: 2-37                        [1, 1, 128]               (recursive)\n",
              "│    └─Linear: 2-38                      [1, 6247]                 (recursive)\n",
              "├─Decoder: 1-14                          [1, 6247]                 (recursive)\n",
              "│    └─Embedding: 2-39                   [1, 1, 50]                (recursive)\n",
              "│    └─LSTM: 2-40                        [1, 1, 128]               (recursive)\n",
              "│    └─Linear: 2-41                      [1, 6247]                 (recursive)\n",
              "├─Decoder: 1-15                          [1, 6247]                 (recursive)\n",
              "│    └─Embedding: 2-42                   [1, 1, 50]                (recursive)\n",
              "│    └─LSTM: 2-43                        [1, 1, 128]               (recursive)\n",
              "│    └─Linear: 2-44                      [1, 6247]                 (recursive)\n",
              "├─Decoder: 1-16                          [1, 6247]                 (recursive)\n",
              "│    └─Embedding: 2-45                   [1, 1, 50]                (recursive)\n",
              "│    └─LSTM: 2-46                        [1, 1, 128]               (recursive)\n",
              "│    └─Linear: 2-47                      [1, 6247]                 (recursive)\n",
              "├─Decoder: 1-17                          [1, 6247]                 (recursive)\n",
              "│    └─Embedding: 2-48                   [1, 1, 50]                (recursive)\n",
              "│    └─LSTM: 2-49                        [1, 1, 128]               (recursive)\n",
              "│    └─Linear: 2-50                      [1, 6247]                 (recursive)\n",
              "├─Decoder: 1-18                          [1, 6247]                 (recursive)\n",
              "│    └─Embedding: 2-51                   [1, 1, 50]                (recursive)\n",
              "│    └─LSTM: 2-52                        [1, 1, 128]               (recursive)\n",
              "│    └─Linear: 2-53                      [1, 6247]                 (recursive)\n",
              "├─Decoder: 1-19                          [1, 6247]                 (recursive)\n",
              "│    └─Embedding: 2-54                   [1, 1, 50]                (recursive)\n",
              "│    └─LSTM: 2-55                        [1, 1, 128]               (recursive)\n",
              "│    └─Linear: 2-56                      [1, 6247]                 (recursive)\n",
              "├─Decoder: 1-20                          [1, 6247]                 (recursive)\n",
              "│    └─Embedding: 2-57                   [1, 1, 50]                (recursive)\n",
              "│    └─LSTM: 2-58                        [1, 1, 128]               (recursive)\n",
              "│    └─Linear: 2-59                      [1, 6247]                 (recursive)\n",
              "├─Decoder: 1-21                          [1, 6247]                 (recursive)\n",
              "│    └─Embedding: 2-60                   [1, 1, 50]                (recursive)\n",
              "│    └─LSTM: 2-61                        [1, 1, 128]               (recursive)\n",
              "│    └─Linear: 2-62                      [1, 6247]                 (recursive)\n",
              "├─Decoder: 1-22                          [1, 6247]                 (recursive)\n",
              "│    └─Embedding: 2-63                   [1, 1, 50]                (recursive)\n",
              "│    └─LSTM: 2-64                        [1, 1, 128]               (recursive)\n",
              "│    └─Linear: 2-65                      [1, 6247]                 (recursive)\n",
              "├─Decoder: 1-23                          [1, 6247]                 (recursive)\n",
              "│    └─Embedding: 2-66                   [1, 1, 50]                (recursive)\n",
              "│    └─LSTM: 2-67                        [1, 1, 128]               (recursive)\n",
              "│    └─Linear: 2-68                      [1, 6247]                 (recursive)\n",
              "==========================================================================================\n",
              "Total params: 1,510,183\n",
              "Trainable params: 1,302,533\n",
              "Non-trainable params: 207,650\n",
              "Total mult-adds (Units.MEGABYTES): 28.68\n",
              "==========================================================================================\n",
              "Input size (MB): 0.00\n",
              "Forward/backward pass size (MB): 1.16\n",
              "Params size (MB): 6.04\n",
              "Estimated Total Size (MB): 7.20\n",
              "=========================================================================================="
            ]
          },
          "metadata": {},
          "execution_count": 25
        }
      ]
    },
    {
      "cell_type": "code",
      "source": [
        "history1 = train(\n",
        "    model,\n",
        "    train_loader,\n",
        "    valid_loader,\n",
        "    optimizer,\n",
        "    criterion,\n",
        "    epochs=10\n",
        ")"
      ],
      "metadata": {
        "colab": {
          "base_uri": "https://localhost:8080/"
        },
        "id": "VDB0KWIegt8s",
        "outputId": "2f806104-d621-44b6-dd5f-33bfb6c7c9a1"
      },
      "execution_count": 26,
      "outputs": [
        {
          "output_type": "stream",
          "name": "stderr",
          "text": [
            "/usr/local/lib/python3.12/dist-packages/torch/autograd/graph.py:829: UserWarning: Attempting to run cuBLAS, but there was no current CUDA context! Attempting to set the primary context... (Triggered internally at /pytorch/aten/src/ATen/cuda/CublasHandlePool.cpp:179.)\n",
            "  return Variable._execution_engine.run_backward(  # Calls into the C++ engine to run the backward pass\n"
          ]
        },
        {
          "output_type": "stream",
          "name": "stdout",
          "text": [
            "Epoch: 1/10 - Train loss 63.641 - Train accuracy 0.664 - Valid Loss 47.439 - Valid accuracy 0.672\n",
            "Epoch: 2/10 - Train loss 42.337 - Train accuracy 0.712 - Valid Loss 45.574 - Valid accuracy 0.697\n",
            "Epoch: 3/10 - Train loss 40.321 - Train accuracy 0.724 - Valid Loss 44.441 - Valid accuracy 0.707\n",
            "Epoch: 4/10 - Train loss 38.646 - Train accuracy 0.733 - Valid Loss 43.154 - Valid accuracy 0.714\n",
            "Epoch: 5/10 - Train loss 37.079 - Train accuracy 0.740 - Valid Loss 42.143 - Valid accuracy 0.714\n",
            "Epoch: 6/10 - Train loss 35.613 - Train accuracy 0.746 - Valid Loss 41.147 - Valid accuracy 0.722\n",
            "Epoch: 7/10 - Train loss 34.244 - Train accuracy 0.752 - Valid Loss 40.467 - Valid accuracy 0.726\n",
            "Epoch: 8/10 - Train loss 32.966 - Train accuracy 0.756 - Valid Loss 39.841 - Valid accuracy 0.727\n",
            "Epoch: 9/10 - Train loss 31.743 - Train accuracy 0.759 - Valid Loss 39.163 - Valid accuracy 0.733\n",
            "Epoch: 10/10 - Train loss 30.588 - Train accuracy 0.762 - Valid Loss 38.797 - Valid accuracy 0.739\n"
          ]
        }
      ],
      "id": "VDB0KWIegt8s"
    },
    {
      "cell_type": "code",
      "source": [
        "epoch_count = range(1, len(history1['accuracy']) + 1)\n",
        "sns.lineplot(x=epoch_count, y=history1['accuracy'], label='train')\n",
        "sns.lineplot(x=epoch_count, y=history1['val_accuracy'], label='valid')\n",
        "plt.show()"
      ],
      "metadata": {
        "id": "pZzm3tx059Zv",
        "colab": {
          "base_uri": "https://localhost:8080/",
          "height": 430
        },
        "outputId": "9f3820cc-0343-48b5-d6e9-7d08683acf91"
      },
      "execution_count": 27,
      "outputs": [
        {
          "output_type": "display_data",
          "data": {
            "text/plain": [
              "<Figure size 640x480 with 1 Axes>"
            ],
            "image/png": "[encoded data removed]"
          },
          "metadata": {}
        }
      ],
      "id": "pZzm3tx059Zv"
    },
    {
      "cell_type": "markdown",
      "source": [
        "#### Modelo lstm_size=256 y num_layers=1"
      ],
      "metadata": {
        "id": "HZvUXmuNrEO0"
      },
      "id": "HZvUXmuNrEO0"
    },
    {
      "cell_type": "code",
      "source": [
        "encoder_2 = Encoder(vocab_size=nb_words, lstm_size=256, num_layers=1)\n",
        "if cuda: encoder_2.cuda()\n",
        "# decoder --> vocab_size == output_dim --> porque recibe y devuelve palabras en el mismo vocabulario\n",
        "decoder_2 = Decoder(vocab_size=num_words_output, output_dim=num_words_output, lstm_size=256, num_layers=1)\n",
        "if cuda: decoder_2.cuda()\n",
        "\n",
        "model_2 = Seq2Seq(encoder_2, decoder_2)\n",
        "if cuda: model_2.cuda()\n",
        "\n",
        "# Crear el optimizador la una función de error\n",
        "optimizer_2 = torch.optim.Adam(model_2.parameters(), lr=0.001)\n",
        "criterion = torch.nn.CrossEntropyLoss()  # Para clasificación multi categórica\n",
        "\n",
        "# Move input data to the device before passing it to summary\n",
        "sample_encoder_input_2, sample_decoder_input_2, _ = data_set[0:1]\n",
        "summary(model_2, input_data=(sample_encoder_input_2.to(device), sample_decoder_input_2.to(device)))"
      ],
      "metadata": {
        "id": "S5aKb0OHrEO0",
        "colab": {
          "base_uri": "https://localhost:8080/"
        },
        "outputId": "888b746c-d47c-44ec-86e1-fb71d59560c3"
      },
      "execution_count": 28,
      "outputs": [
        {
          "output_type": "execute_result",
          "data": {
            "text/plain": [
              "==========================================================================================\n",
              "Layer (type:depth-idx)                   Output Shape              Param #\n",
              "==========================================================================================\n",
              "Seq2Seq                                  [1, 22, 6247]             --\n",
              "├─Encoder: 1-1                           [1, 1, 256]               --\n",
              "│    └─Embedding: 2-1                    [1, 20, 50]               (207,650)\n",
              "│    └─LSTM: 2-2                         [1, 20, 256]              315,392\n",
              "├─Decoder: 1-2                           [1, 6247]                 --\n",
              "│    └─Embedding: 2-3                    [1, 1, 50]                312,350\n",
              "│    └─LSTM: 2-4                         [1, 1, 256]               315,392\n",
              "│    └─Linear: 2-5                       [1, 6247]                 1,605,479\n",
              "├─Decoder: 1-3                           [1, 6247]                 (recursive)\n",
              "│    └─Embedding: 2-6                    [1, 1, 50]                (recursive)\n",
              "│    └─LSTM: 2-7                         [1, 1, 256]               (recursive)\n",
              "│    └─Linear: 2-8                       [1, 6247]                 (recursive)\n",
              "├─Decoder: 1-4                           [1, 6247]                 (recursive)\n",
              "│    └─Embedding: 2-9                    [1, 1, 50]                (recursive)\n",
              "│    └─LSTM: 2-10                        [1, 1, 256]               (recursive)\n",
              "│    └─Linear: 2-11                      [1, 6247]                 (recursive)\n",
              "├─Decoder: 1-5                           [1, 6247]                 (recursive)\n",
              "│    └─Embedding: 2-12                   [1, 1, 50]                (recursive)\n",
              "│    └─LSTM: 2-13                        [1, 1, 256]               (recursive)\n",
              "│    └─Linear: 2-14                      [1, 6247]                 (recursive)\n",
              "├─Decoder: 1-6                           [1, 6247]                 (recursive)\n",
              "│    └─Embedding: 2-15                   [1, 1, 50]                (recursive)\n",
              "│    └─LSTM: 2-16                        [1, 1, 256]               (recursive)\n",
              "│    └─Linear: 2-17                      [1, 6247]                 (recursive)\n",
              "├─Decoder: 1-7                           [1, 6247]                 (recursive)\n",
              "│    └─Embedding: 2-18                   [1, 1, 50]                (recursive)\n",
              "│    └─LSTM: 2-19                        [1, 1, 256]               (recursive)\n",
              "│    └─Linear: 2-20                      [1, 6247]                 (recursive)\n",
              "├─Decoder: 1-8                           [1, 6247]                 (recursive)\n",
              "│    └─Embedding: 2-21                   [1, 1, 50]                (recursive)\n",
              "│    └─LSTM: 2-22                        [1, 1, 256]               (recursive)\n",
              "│    └─Linear: 2-23                      [1, 6247]                 (recursive)\n",
              "├─Decoder: 1-9                           [1, 6247]                 (recursive)\n",
              "│    └─Embedding: 2-24                   [1, 1, 50]                (recursive)\n",
              "│    └─LSTM: 2-25                        [1, 1, 256]               (recursive)\n",
              "│    └─Linear: 2-26                      [1, 6247]                 (recursive)\n",
              "├─Decoder: 1-10                          [1, 6247]                 (recursive)\n",
              "│    └─Embedding: 2-27                   [1, 1, 50]                (recursive)\n",
              "│    └─LSTM: 2-28                        [1, 1, 256]               (recursive)\n",
              "│    └─Linear: 2-29                      [1, 6247]                 (recursive)\n",
              "├─Decoder: 1-11                          [1, 6247]                 (recursive)\n",
              "│    └─Embedding: 2-30                   [1, 1, 50]                (recursive)\n",
              "│    └─LSTM: 2-31                        [1, 1, 256]               (recursive)\n",
              "│    └─Linear: 2-32                      [1, 6247]                 (recursive)\n",
              "├─Decoder: 1-12                          [1, 6247]                 (recursive)\n",
              "│    └─Embedding: 2-33                   [1, 1, 50]                (recursive)\n",
              "│    └─LSTM: 2-34                        [1, 1, 256]               (recursive)\n",
              "│    └─Linear: 2-35                      [1, 6247]                 (recursive)\n",
              "├─Decoder: 1-13                          [1, 6247]                 (recursive)\n",
              "│    └─Embedding: 2-36                   [1, 1, 50]                (recursive)\n",
              "│    └─LSTM: 2-37                        [1, 1, 256]               (recursive)\n",
              "│    └─Linear: 2-38                      [1, 6247]                 (recursive)\n",
              "├─Decoder: 1-14                          [1, 6247]                 (recursive)\n",
              "│    └─Embedding: 2-39                   [1, 1, 50]                (recursive)\n",
              "│    └─LSTM: 2-40                        [1, 1, 256]               (recursive)\n",
              "│    └─Linear: 2-41                      [1, 6247]                 (recursive)\n",
              "├─Decoder: 1-15                          [1, 6247]                 (recursive)\n",
              "│    └─Embedding: 2-42                   [1, 1, 50]                (recursive)\n",
              "│    └─LSTM: 2-43                        [1, 1, 256]               (recursive)\n",
              "│    └─Linear: 2-44                      [1, 6247]                 (recursive)\n",
              "├─Decoder: 1-16                          [1, 6247]                 (recursive)\n",
              "│    └─Embedding: 2-45                   [1, 1, 50]                (recursive)\n",
              "│    └─LSTM: 2-46                        [1, 1, 256]               (recursive)\n",
              "│    └─Linear: 2-47                      [1, 6247]                 (recursive)\n",
              "├─Decoder: 1-17                          [1, 6247]                 (recursive)\n",
              "│    └─Embedding: 2-48                   [1, 1, 50]                (recursive)\n",
              "│    └─LSTM: 2-49                        [1, 1, 256]               (recursive)\n",
              "│    └─Linear: 2-50                      [1, 6247]                 (recursive)\n",
              "├─Decoder: 1-18                          [1, 6247]                 (recursive)\n",
              "│    └─Embedding: 2-51                   [1, 1, 50]                (recursive)\n",
              "│    └─LSTM: 2-52                        [1, 1, 256]               (recursive)\n",
              "│    └─Linear: 2-53                      [1, 6247]                 (recursive)\n",
              "├─Decoder: 1-19                          [1, 6247]                 (recursive)\n",
              "│    └─Embedding: 2-54                   [1, 1, 50]                (recursive)\n",
              "│    └─LSTM: 2-55                        [1, 1, 256]               (recursive)\n",
              "│    └─Linear: 2-56                      [1, 6247]                 (recursive)\n",
              "├─Decoder: 1-20                          [1, 6247]                 (recursive)\n",
              "│    └─Embedding: 2-57                   [1, 1, 50]                (recursive)\n",
              "│    └─LSTM: 2-58                        [1, 1, 256]               (recursive)\n",
              "│    └─Linear: 2-59                      [1, 6247]                 (recursive)\n",
              "├─Decoder: 1-21                          [1, 6247]                 (recursive)\n",
              "│    └─Embedding: 2-60                   [1, 1, 50]                (recursive)\n",
              "│    └─LSTM: 2-61                        [1, 1, 256]               (recursive)\n",
              "│    └─Linear: 2-62                      [1, 6247]                 (recursive)\n",
              "├─Decoder: 1-22                          [1, 6247]                 (recursive)\n",
              "│    └─Embedding: 2-63                   [1, 1, 50]                (recursive)\n",
              "│    └─LSTM: 2-64                        [1, 1, 256]               (recursive)\n",
              "│    └─Linear: 2-65                      [1, 6247]                 (recursive)\n",
              "├─Decoder: 1-23                          [1, 6247]                 (recursive)\n",
              "│    └─Embedding: 2-66                   [1, 1, 50]                (recursive)\n",
              "│    └─LSTM: 2-67                        [1, 1, 256]               (recursive)\n",
              "│    └─Linear: 2-68                      [1, 6247]                 (recursive)\n",
              "==========================================================================================\n",
              "Total params: 2,756,263\n",
              "Trainable params: 2,548,613\n",
              "Non-trainable params: 207,650\n",
              "Total mult-adds (Units.MEGABYTES): 55.65\n",
              "==========================================================================================\n",
              "Input size (MB): 0.00\n",
              "Forward/backward pass size (MB): 1.20\n",
              "Params size (MB): 11.03\n",
              "Estimated Total Size (MB): 12.23\n",
              "=========================================================================================="
            ]
          },
          "metadata": {},
          "execution_count": 28
        }
      ],
      "id": "S5aKb0OHrEO0"
    },
    {
      "cell_type": "code",
      "source": [
        "history_2 = train(\n",
        "    model_2,\n",
        "    train_loader,\n",
        "    valid_loader,\n",
        "    optimizer_2,\n",
        "    criterion,\n",
        "    epochs=10\n",
        ")"
      ],
      "metadata": {
        "id": "KbmbguF9rEO0",
        "colab": {
          "base_uri": "https://localhost:8080/"
        },
        "outputId": "12004f48-6767-459e-bbe2-8c79bb80045d"
      },
      "execution_count": 29,
      "outputs": [
        {
          "output_type": "stream",
          "name": "stdout",
          "text": [
            "Epoch: 1/10 - Train loss 56.783 - Train accuracy 0.683 - Valid Loss 46.464 - Valid accuracy 0.679\n",
            "Epoch: 2/10 - Train loss 41.329 - Train accuracy 0.717 - Valid Loss 44.389 - Valid accuracy 0.706\n",
            "Epoch: 3/10 - Train loss 38.650 - Train accuracy 0.730 - Valid Loss 42.749 - Valid accuracy 0.716\n",
            "Epoch: 4/10 - Train loss 36.383 - Train accuracy 0.741 - Valid Loss 41.465 - Valid accuracy 0.719\n",
            "Epoch: 5/10 - Train loss 34.296 - Train accuracy 0.748 - Valid Loss 40.358 - Valid accuracy 0.727\n",
            "Epoch: 6/10 - Train loss 32.365 - Train accuracy 0.753 - Valid Loss 39.244 - Valid accuracy 0.733\n",
            "Epoch: 7/10 - Train loss 30.585 - Train accuracy 0.758 - Valid Loss 38.806 - Valid accuracy 0.734\n",
            "Epoch: 8/10 - Train loss 28.876 - Train accuracy 0.762 - Valid Loss 38.322 - Valid accuracy 0.743\n",
            "Epoch: 9/10 - Train loss 27.222 - Train accuracy 0.767 - Valid Loss 37.963 - Valid accuracy 0.744\n",
            "Epoch: 10/10 - Train loss 25.647 - Train accuracy 0.772 - Valid Loss 37.930 - Valid accuracy 0.743\n"
          ]
        }
      ],
      "id": "KbmbguF9rEO0"
    },
    {
      "cell_type": "code",
      "source": [
        "epoch_count = range(1, len(history_2['accuracy']) + 1)\n",
        "sns.lineplot(x=epoch_count, y=history_2['accuracy'], label='train')\n",
        "sns.lineplot(x=epoch_count, y=history_2['val_accuracy'], label='valid')\n",
        "plt.show()"
      ],
      "metadata": {
        "id": "M79JFEu3rEO1",
        "colab": {
          "base_uri": "https://localhost:8080/",
          "height": 430
        },
        "outputId": "a31134b7-3ebd-41d0-8c70-003ca90c9232"
      },
      "execution_count": 30,
      "outputs": [
        {
          "output_type": "display_data",
          "data": {
            "text/plain": [
              "<Figure size 640x480 with 1 Axes>"
            ],
            "image/png": "[encoded data removed]"
          },
          "metadata": {}
        }
      ],
      "id": "M79JFEu3rEO1"
    },
    {
      "cell_type": "markdown",
      "metadata": {
        "id": "Zbwn0ekDy_s2"
      },
      "source": [
        "### 5 - Inferencia"
      ],
      "id": "Zbwn0ekDy_s2"
    },
    {
      "cell_type": "code",
      "metadata": {
        "id": "jnkl3mSpsU_7",
        "colab": {
          "base_uri": "https://localhost:8080/",
          "height": 70
        },
        "outputId": "5e0c7413-c5e2-49a6-a02a-6cf36cb052e5"
      },
      "source": [
        "'''\n",
        "Step 1:\n",
        "A deal is a deal -> Encoder -> enc(h1,c1)\n",
        "\n",
        "enc(h1,c1) + <sos> -> Decoder -> Un + dec(h1,c1)\n",
        "\n",
        "step 2:\n",
        "dec(h1,c1) + Un -> Decoder -> trato + dec(h2,c2)\n",
        "\n",
        "step 3:\n",
        "dec(h2,c2) + trato -> Decoder -> es + dec(h3,c3)\n",
        "\n",
        "step 4:\n",
        "dec(h3,c3) + es -> Decoder -> un + dec(h4,c4)\n",
        "\n",
        "step 5:\n",
        "dec(h4,c4) + un -> Decoder -> trato + dec(h5,c5)\n",
        "\n",
        "step 6:\n",
        "dec(h5,c5) + trato. -> Decoder -> <eos> + dec(h6,c6)\n",
        "'''"
      ],
      "execution_count": 31,
      "outputs": [
        {
          "output_type": "execute_result",
          "data": {
            "text/plain": [
              "'\\nStep 1:\\nA deal is a deal -> Encoder -> enc(h1,c1)\\n\\nenc(h1,c1) + <sos> -> Decoder -> Un + dec(h1,c1)\\n\\nstep 2:\\ndec(h1,c1) + Un -> Decoder -> trato + dec(h2,c2)\\n\\nstep 3:\\ndec(h2,c2) + trato -> Decoder -> es + dec(h3,c3)\\n\\nstep 4:\\ndec(h3,c3) + es -> Decoder -> un + dec(h4,c4)\\n\\nstep 5:\\ndec(h4,c4) + un -> Decoder -> trato + dec(h5,c5)\\n\\nstep 6:\\ndec(h5,c5) + trato. -> Decoder -> <eos> + dec(h6,c6)\\n'"
            ],
            "application/vnd.google.colaboratory.intrinsic+json": {
              "type": "string"
            }
          },
          "metadata": {},
          "execution_count": 31
        }
      ],
      "id": "jnkl3mSpsU_7"
    },
    {
      "cell_type": "code",
      "metadata": {
        "id": "71XeCtfYmOFx"
      },
      "source": [
        "# Armar lo conversores de indice a palabra:\n",
        "idx2word_input = {v:k for k, v in word2idx_inputs.items()}\n",
        "idx2word_target = {v:k for k, v in word2idx_outputs.items()}"
      ],
      "execution_count": 32,
      "outputs": [],
      "id": "71XeCtfYmOFx"
    },
    {
      "cell_type": "code",
      "metadata": {
        "id": "MlUyp9M6ua2V"
      },
      "source": [
        "def translate_sentence(model, input_seq):\n",
        "    # Se transforma la sequencia de entrada a los stados \"h\" y \"c\" de la LSTM\n",
        "    # para enviar la primera vez al decoder\"\n",
        "    prev_state = model.encoder(encoder_sequence_test_tensor.to(device))\n",
        "\n",
        "    # Se inicializa la secuencia de entrada al decoder como \"<sos>\"\n",
        "    target_seq = np.zeros((1, 1))\n",
        "    target_seq[0, 0] = word2idx_outputs['<sos>']\n",
        "    target_seq_tensor = torch.from_numpy(target_seq.astype(np.int32))\n",
        "\n",
        "    # Se obtiene el indice que finaliza la inferencia\n",
        "    eos = word2idx_outputs['<eos>']\n",
        "\n",
        "    output_sentence = []\n",
        "    for _ in range(max_out_len):\n",
        "        # Predicción del próximo elemento\n",
        "        output, new_prev_state = model.decoder(target_seq_tensor.to(device), prev_state)\n",
        "        top1 = output.argmax(1).view(-1, 1)\n",
        "        idx = int(top1.cpu())\n",
        "\n",
        "        # Si es \"end of sentece <eos>\" se acaba\n",
        "        if eos == idx:\n",
        "            break\n",
        "\n",
        "        # Transformar ídx a palabra\n",
        "        word = ''\n",
        "        if idx > 0:\n",
        "            word = idx2word_target[idx]\n",
        "            output_sentence.append(word)\n",
        "\n",
        "        # Actualizar los estados dado la ultimo prediccion\n",
        "        prev_state = new_prev_state\n",
        "\n",
        "        # Actualizar secuencia de entrada con la salida (re-alimentacion)\n",
        "        target_seq_tensor = top1\n",
        "\n",
        "    return ' '.join(output_sentence)"
      ],
      "execution_count": 33,
      "outputs": [],
      "id": "MlUyp9M6ua2V"
    },
    {
      "cell_type": "markdown",
      "source": [
        "#### Modelo lstm_size=128 y num_layers=1"
      ],
      "metadata": {
        "id": "ukxmHjqoGk_h"
      },
      "id": "ukxmHjqoGk_h"
    },
    {
      "cell_type": "code",
      "source": [
        "input_test = \"My mother say hi.\"\n",
        "print('Input:', input_test)\n",
        "integer_seq_test = input_tokenizer.texts_to_sequences([input_test])[0]\n",
        "print(\"Representacion en vector de tokens de ids\", integer_seq_test)\n",
        "encoder_sequence_test = pad_sequences([integer_seq_test], maxlen=max_input_len)\n",
        "print(\"Padding del vector:\", encoder_sequence_test)\n",
        "encoder_sequence_test_tensor = torch.from_numpy(encoder_sequence_test.astype(np.int32))\n",
        "\n",
        "# Se obtiene la salida del encoder (el estado oculto para el decoder)\n",
        "prev_state = model.encoder(encoder_sequence_test_tensor.to(device))\n",
        "\n",
        "# Se inicializa la secuencia de entrada al decoder como \"<sos>\"\n",
        "target_seq = np.zeros((1, 1))\n",
        "target_seq[0, 0] = word2idx_outputs['<sos>']\n",
        "target_seq_tensor = torch.from_numpy(target_seq.astype(np.int32))\n",
        "\n",
        "# Se obtiene la primera palabra de la secuencia de salida del decoder\n",
        "output, prev_state = model.decoder(target_seq_tensor.to(device), prev_state)\n",
        "\n",
        "top1 = output.argmax(1).view(-1, 1)\n",
        "idx = int(top1.cpu())\n",
        "print(\"Index/token de salida:\", idx)\n",
        "\n",
        "word = idx2word_target[idx]\n",
        "print(\"Palabra de salida:\", word)"
      ],
      "metadata": {
        "id": "-YOZFX8WkHsQ",
        "colab": {
          "base_uri": "https://localhost:8080/"
        },
        "outputId": "9ad42449-5e50-4f10-b850-5e074abdc641"
      },
      "execution_count": 34,
      "outputs": [
        {
          "output_type": "stream",
          "name": "stdout",
          "text": [
            "Input: My mother say hi.\n",
            "Representacion en vector de tokens de ids [16, 237, 143]\n",
            "Padding del vector: [[  0   0   0   0   0   0   0   0   0   0   0   0   0   0   0   0   0  16\n",
            "  237 143]]\n",
            "Index/token de salida: 21\n",
            "Palabra de salida: ella\n"
          ]
        }
      ],
      "id": "-YOZFX8WkHsQ"
    },
    {
      "cell_type": "code",
      "source": [
        "input_test = \"My mother say hi.\"\n",
        "print('Input:', input_test)\n",
        "integer_seq_test = input_tokenizer.texts_to_sequences([input_test])[0]\n",
        "print(\"Representacion en vector de tokens de ids\", integer_seq_test)\n",
        "encoder_sequence_test = pad_sequences([integer_seq_test], maxlen=max_input_len)\n",
        "print(\"Padding del vector:\", encoder_sequence_test)\n",
        "encoder_sequence_test_tensor = torch.from_numpy(encoder_sequence_test.astype(np.int32))\n",
        "\n",
        "translation = translate_sentence(model, encoder_sequence_test)\n",
        "print('Response:', translation)"
      ],
      "metadata": {
        "id": "Fd6VJcZb9It_",
        "colab": {
          "base_uri": "https://localhost:8080/"
        },
        "outputId": "0dbfc05b-f3ab-4939-d211-ca4d141197cf"
      },
      "execution_count": 35,
      "outputs": [
        {
          "output_type": "stream",
          "name": "stdout",
          "text": [
            "Input: My mother say hi.\n",
            "Representacion en vector de tokens de ids [16, 237, 143]\n",
            "Padding del vector: [[  0   0   0   0   0   0   0   0   0   0   0   0   0   0   0   0   0  16\n",
            "  237 143]]\n",
            "Response: ella se está a la casa\n"
          ]
        }
      ],
      "id": "Fd6VJcZb9It_"
    },
    {
      "cell_type": "code",
      "metadata": {
        "id": "ZhGVjLKcunxW",
        "colab": {
          "base_uri": "https://localhost:8080/"
        },
        "outputId": "283e2c7f-9746-4238-c154-37c76ff7db27"
      },
      "source": [
        "i = np.random.choice(len(input_sentences))\n",
        "input_seq = encoder_input_sequences[i:i+1]\n",
        "encoder_sequence_test_tensor = torch.from_numpy(input_seq.astype(np.int32))\n",
        "translation = translate_sentence(model, encoder_sequence_test_tensor)\n",
        "print('-')\n",
        "print('Input:', input_sentences[i])\n",
        "print('Response:', translation)"
      ],
      "execution_count": 36,
      "outputs": [
        {
          "output_type": "stream",
          "name": "stdout",
          "text": [
            "-\n",
            "Input: Mary wants to buy a dress.\n",
            "Response: ella no tiene un poco de la ciudad\n"
          ]
        }
      ],
      "id": "ZhGVjLKcunxW"
    },
    {
      "cell_type": "markdown",
      "source": [
        "#### Modelo lstm_size=256 y num_layers=1"
      ],
      "metadata": {
        "id": "SVaajQHCGtlb"
      },
      "id": "SVaajQHCGtlb"
    },
    {
      "cell_type": "code",
      "source": [
        "input_test = \"My mother say hi.\"\n",
        "print('Input:', input_test)\n",
        "integer_seq_test = input_tokenizer.texts_to_sequences([input_test])[0]\n",
        "print(\"Representacion en vector de tokens de ids\", integer_seq_test)\n",
        "encoder_sequence_test = pad_sequences([integer_seq_test], maxlen=max_input_len)\n",
        "print(\"Padding del vector:\", encoder_sequence_test)\n",
        "encoder_sequence_test_tensor = torch.from_numpy(encoder_sequence_test.astype(np.int32))\n",
        "\n",
        "# Se obtiene la salida del encoder (el estado oculto para el decoder)\n",
        "prev_state = model_2.encoder(encoder_sequence_test_tensor.to(device))\n",
        "\n",
        "# Se inicializa la secuencia de entrada al decoder como \"<sos>\"\n",
        "target_seq = np.zeros((1, 1))\n",
        "target_seq[0, 0] = word2idx_outputs['<sos>']\n",
        "target_seq_tensor = torch.from_numpy(target_seq.astype(np.int32))\n",
        "\n",
        "# Se obtiene la primera palabra de la secuencia de salida del decoder\n",
        "output, prev_state = model_2.decoder(target_seq_tensor.to(device), prev_state)\n",
        "\n",
        "top1 = output.argmax(1).view(-1, 1)\n",
        "idx = int(top1.cpu())\n",
        "print(\"Index/token de salida:\", idx)\n",
        "\n",
        "word = idx2word_target[idx]\n",
        "print(\"Palabra de salida:\", word)"
      ],
      "metadata": {
        "id": "SrNwZ1aWG47p",
        "colab": {
          "base_uri": "https://localhost:8080/"
        },
        "outputId": "2fcaff07-cd83-4345-b434-1dbbeaed2034"
      },
      "execution_count": 37,
      "outputs": [
        {
          "output_type": "stream",
          "name": "stdout",
          "text": [
            "Input: My mother say hi.\n",
            "Representacion en vector de tokens de ids [16, 237, 143]\n",
            "Padding del vector: [[  0   0   0   0   0   0   0   0   0   0   0   0   0   0   0   0   0  16\n",
            "  237 143]]\n",
            "Index/token de salida: 21\n",
            "Palabra de salida: ella\n"
          ]
        }
      ],
      "id": "SrNwZ1aWG47p"
    },
    {
      "cell_type": "code",
      "source": [
        "input_test = \"My mother say hi.\"\n",
        "print('Input:', input_test)\n",
        "integer_seq_test = input_tokenizer.texts_to_sequences([input_test])[0]\n",
        "print(\"Representacion en vector de tokens de ids\", integer_seq_test)\n",
        "encoder_sequence_test = pad_sequences([integer_seq_test], maxlen=max_input_len)\n",
        "print(\"Padding del vector:\", encoder_sequence_test)\n",
        "encoder_sequence_test_tensor = torch.from_numpy(encoder_sequence_test.astype(np.int32))\n",
        "\n",
        "translation = translate_sentence(model_2, encoder_sequence_test)\n",
        "print('Response:', translation)"
      ],
      "metadata": {
        "id": "u9lH7X01G47q",
        "colab": {
          "base_uri": "https://localhost:8080/"
        },
        "outputId": "aedcd268-4581-4ffa-8cc8-63ebf73aa361"
      },
      "execution_count": 38,
      "outputs": [
        {
          "output_type": "stream",
          "name": "stdout",
          "text": [
            "Input: My mother say hi.\n",
            "Representacion en vector de tokens de ids [16, 237, 143]\n",
            "Padding del vector: [[  0   0   0   0   0   0   0   0   0   0   0   0   0   0   0   0   0  16\n",
            "  237 143]]\n",
            "Response: ella se está quemando\n"
          ]
        }
      ],
      "id": "u9lH7X01G47q"
    },
    {
      "cell_type": "code",
      "metadata": {
        "id": "s6Gv9ofOG47q",
        "colab": {
          "base_uri": "https://localhost:8080/"
        },
        "outputId": "6b42cbe9-bd91-4c07-d5fc-3e3240f20923"
      },
      "source": [
        "i = np.random.choice(len(input_sentences))\n",
        "input_seq = encoder_input_sequences[i:i+1]\n",
        "encoder_sequence_test_tensor = torch.from_numpy(input_seq.astype(np.int32))\n",
        "translation = translate_sentence(model_2, encoder_sequence_test_tensor)\n",
        "print('-')\n",
        "print('Input:', input_sentences[i])\n",
        "print('Response:', translation)"
      ],
      "execution_count": 39,
      "outputs": [
        {
          "output_type": "stream",
          "name": "stdout",
          "text": [
            "-\n",
            "Input: Tom is naked.\n",
            "Response: tom es un hombre\n"
          ]
        }
      ],
      "id": "s6Gv9ofOG47q"
    },
    {
      "cell_type": "markdown",
      "source": [
        "Cambios realizados:\n",
        "\n",
        "*   Más datos y más tamaños de secuencia:\n",
        "    *   MAX_NUM_SENTENCES = 7000\n",
        "    *   max_input_len = 20\n",
        "    *   max_out_len = 22\n",
        "*   Eliminar capa softmax en Decoder. CrossEntropyLoss ya incluye internamente un log_softmax, por lo que al pasarle probabilidades normalizadas en lugar de logits, los gradientes tienden a cero o son numéricamente inestables. Por lo tanto, en diferentes pruebas se observó que el modelo dejaba de aprender.\n",
        "*   Learning rate mucho menor, un learning rate de 0.1 hacía muy inestables los entrenamientos. Se observaban muchos picos en las gráficas de historial. Se bajó a 0.001 haciendo los entrenamientos más estables y por ende las gráficas mucho más suaves.\n",
        "*   Parametrización de lstm_size y num_layers:\n",
        "    *   lstm_size: 128; num_layers: 1\n",
        "    *   lstm_size: 256; num_layers: 1\n",
        "\n"
      ],
      "metadata": {
        "id": "FU-g_uU5-3De"
      },
      "id": "FU-g_uU5-3De"
    },
    {
      "cell_type": "markdown",
      "metadata": {
        "id": "79058169"
      },
      "source": [
        "**Conclusión:**\n",
        "\n",
        "* **Resultados del entrenamiento:** Ambos modelos, con `lstm_size` de 128 y 256, mostraron una mejora constante en la precisión de entrenamiento y validación a lo largo de las 10 épocas. El modelo con `lstm_size=256` alcanzó una precisión de validación ligeramente superior (0.743) en comparación con el modelo con `lstm_size=128` (0.739) al final del entrenamiento. Esto sugiere que un tamaño de capa LSTM mayor puede capturar mejor las dependencias en los datos para esta tarea específica.\n",
        "* **Resultados de la inferencia:** Las traducciones generadas por ambos modelos durante la inferencia, aunque no perfectas, muestran un intento de traducir las frases de entrada. Las traducciones son rudimentarias y a menudo gramaticalmente incorrectas o sin sentido en el contexto de la frase original. Esto indica que, si bien los modelos están aprendiendo algunas relaciones entre palabras y secuencias, la calidad de las traducciones es limitada con la configuración actual y la cantidad de datos utilizados."
      ],
      "id": "79058169"
    }
  ],
  "metadata": {
    "language_info": {
      "name": "python"
    },
    "colab": {
      "provenance": [],
      "toc_visible": true,
      "gpuType": "T4"
    },
    "kernelspec": {
      "name": "python3",
      "display_name": "Python 3"
    },
    "accelerator": "GPU"
  },
  "nbformat": 4,
  "nbformat_minor": 5
}